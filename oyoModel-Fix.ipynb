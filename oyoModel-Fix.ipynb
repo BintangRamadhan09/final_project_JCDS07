{
 "cells": [
  {
   "cell_type": "markdown",
   "metadata": {},
   "source": [
    "### Importing Libraries"
   ]
  },
  {
   "cell_type": "code",
   "execution_count": 1,
   "metadata": {},
   "outputs": [],
   "source": [
    "import numpy as np\n",
    "import pandas as pd\n",
    "import matplotlib.pyplot as plt\n",
    "import seaborn as sb\n",
    "from sklearn.metrics import confusion_matrix, accuracy_score, roc_auc_score, roc_curve\n",
    "from sklearn.preprocessing import StandardScaler\n",
    "from sklearn.preprocessing import MinMaxScaler\n",
    "from sklearn.preprocessing import Normalizer\n",
    "from sklearn.model_selection import train_test_split, cross_val_score, RandomizedSearchCV\n",
    "from sklearn.model_selection import GridSearchCV\n",
    "from sklearn.model_selection import cross_val_predict\n",
    "from sklearn.ensemble import RandomForestClassifier\n",
    "from sklearn.linear_model import LogisticRegression\n",
    "from sklearn.tree import DecisionTreeClassifier\n",
    "from sklearn.ensemble import RandomForestRegressor\n",
    "import joblib\n",
    "\n",
    "from sklearn.metrics import balanced_accuracy_score, f1_score, precision_score, recall_score, roc_auc_score, confusion_matrix, classification_report\n",
    "from sklearn.metrics import mean_absolute_error, mean_squared_error, median_absolute_error, mean_squared_log_error, r2_score\n",
    "\n",
    "\n",
    "from sklearn.model_selection import RandomizedSearchCV as RSCV\n",
    "import warnings\n",
    "warnings.filterwarnings('ignore')"
   ]
  },
  {
   "cell_type": "markdown",
   "metadata": {},
   "source": []
  },
  {
   "cell_type": "code",
   "execution_count": 2,
   "metadata": {},
   "outputs": [],
   "source": [
    "pd.options.display.max_columns=99"
   ]
  },
  {
   "cell_type": "code",
   "execution_count": 3,
   "metadata": {},
   "outputs": [
    {
     "data": {
      "text/html": [
       "<div>\n",
       "<style scoped>\n",
       "    .dataframe tbody tr th:only-of-type {\n",
       "        vertical-align: middle;\n",
       "    }\n",
       "\n",
       "    .dataframe tbody tr th {\n",
       "        vertical-align: top;\n",
       "    }\n",
       "\n",
       "    .dataframe thead th {\n",
       "        text-align: right;\n",
       "    }\n",
       "</style>\n",
       "<table border=\"1\" class=\"dataframe\">\n",
       "  <thead>\n",
       "    <tr style=\"text-align: right;\">\n",
       "      <th></th>\n",
       "      <th>year</th>\n",
       "      <th>month</th>\n",
       "      <th>oyo_id</th>\n",
       "      <th>hub</th>\n",
       "      <th>city</th>\n",
       "      <th>cluster</th>\n",
       "      <th>SRNs</th>\n",
       "      <th>GMV</th>\n",
       "      <th>OCC</th>\n",
       "      <th>OTA</th>\n",
       "      <th>TraveLoka</th>\n",
       "      <th>Booking.com</th>\n",
       "      <th>Agoda</th>\n",
       "      <th>Tiket.com</th>\n",
       "      <th>Pegipegi</th>\n",
       "      <th>Expedia</th>\n",
       "      <th>App</th>\n",
       "      <th>MM</th>\n",
       "      <th>Walk_In</th>\n",
       "      <th>Web</th>\n",
       "      <th>Direct</th>\n",
       "      <th>Rest</th>\n",
       "      <th>ARR</th>\n",
       "      <th>OTA.1</th>\n",
       "      <th>TraveLoka.1</th>\n",
       "      <th>Booking.com.1</th>\n",
       "      <th>Agoda.1</th>\n",
       "      <th>Tiket.com.1</th>\n",
       "      <th>Pegipegi.1</th>\n",
       "      <th>Expedia.1</th>\n",
       "      <th>App.1</th>\n",
       "      <th>MM.1</th>\n",
       "      <th>Walk_In.1</th>\n",
       "      <th>Web.1</th>\n",
       "      <th>Direct.1</th>\n",
       "      <th>Rest.1</th>\n",
       "      <th>Revpar</th>\n",
       "      <th>Cancellations</th>\n",
       "      <th>No_Shows</th>\n",
       "      <th>GTR</th>\n",
       "      <th>NTR</th>\n",
       "      <th>MG_Loss</th>\n",
       "    </tr>\n",
       "  </thead>\n",
       "  <tbody>\n",
       "    <tr>\n",
       "      <th>0</th>\n",
       "      <td>2020</td>\n",
       "      <td>1</td>\n",
       "      <td>ID_ABN001</td>\n",
       "      <td>North Sulawesi</td>\n",
       "      <td>Ambon</td>\n",
       "      <td>Rijali</td>\n",
       "      <td>1643</td>\n",
       "      <td>2.279401e+07</td>\n",
       "      <td>0.0919</td>\n",
       "      <td>0.0572</td>\n",
       "      <td>0.0426</td>\n",
       "      <td>0.0043</td>\n",
       "      <td>0.0073</td>\n",
       "      <td>0.0030</td>\n",
       "      <td>0.0000</td>\n",
       "      <td>0.0000</td>\n",
       "      <td>0.0347</td>\n",
       "      <td>0.0</td>\n",
       "      <td>0.0000</td>\n",
       "      <td>0.0000</td>\n",
       "      <td>0.0</td>\n",
       "      <td>0.0</td>\n",
       "      <td>150962</td>\n",
       "      <td>154186</td>\n",
       "      <td>150696</td>\n",
       "      <td>163123</td>\n",
       "      <td>167655</td>\n",
       "      <td>158207</td>\n",
       "      <td>0</td>\n",
       "      <td>0</td>\n",
       "      <td>145645</td>\n",
       "      <td>0</td>\n",
       "      <td>0</td>\n",
       "      <td>0</td>\n",
       "      <td>0</td>\n",
       "      <td>0</td>\n",
       "      <td>13874</td>\n",
       "      <td>0.3494</td>\n",
       "      <td>0.0892</td>\n",
       "      <td>0.2496</td>\n",
       "      <td>0.1305</td>\n",
       "      <td>0</td>\n",
       "    </tr>\n",
       "    <tr>\n",
       "      <th>1</th>\n",
       "      <td>2020</td>\n",
       "      <td>1</td>\n",
       "      <td>ID_ABN002</td>\n",
       "      <td>North Sulawesi</td>\n",
       "      <td>Ambon</td>\n",
       "      <td>Honipupu</td>\n",
       "      <td>775</td>\n",
       "      <td>5.915414e+07</td>\n",
       "      <td>0.4477</td>\n",
       "      <td>0.1755</td>\n",
       "      <td>0.0477</td>\n",
       "      <td>0.0374</td>\n",
       "      <td>0.0542</td>\n",
       "      <td>0.0219</td>\n",
       "      <td>0.0142</td>\n",
       "      <td>0.0000</td>\n",
       "      <td>0.1110</td>\n",
       "      <td>0.0</td>\n",
       "      <td>0.1587</td>\n",
       "      <td>0.0026</td>\n",
       "      <td>0.0</td>\n",
       "      <td>0.0</td>\n",
       "      <td>170489</td>\n",
       "      <td>189042</td>\n",
       "      <td>221809</td>\n",
       "      <td>171822</td>\n",
       "      <td>181331</td>\n",
       "      <td>179856</td>\n",
       "      <td>167862</td>\n",
       "      <td>0</td>\n",
       "      <td>166299</td>\n",
       "      <td>0</td>\n",
       "      <td>152768</td>\n",
       "      <td>178849</td>\n",
       "      <td>0</td>\n",
       "      <td>0</td>\n",
       "      <td>76335</td>\n",
       "      <td>0.2478</td>\n",
       "      <td>0.0043</td>\n",
       "      <td>0.1884</td>\n",
       "      <td>0.1071</td>\n",
       "      <td>0</td>\n",
       "    </tr>\n",
       "    <tr>\n",
       "      <th>2</th>\n",
       "      <td>2020</td>\n",
       "      <td>1</td>\n",
       "      <td>ID_ABN003</td>\n",
       "      <td>North Sulawesi</td>\n",
       "      <td>Ambon</td>\n",
       "      <td>Teluk Ambon</td>\n",
       "      <td>620</td>\n",
       "      <td>3.780094e+07</td>\n",
       "      <td>0.2694</td>\n",
       "      <td>0.1339</td>\n",
       "      <td>0.1323</td>\n",
       "      <td>0.0016</td>\n",
       "      <td>0.0000</td>\n",
       "      <td>0.0000</td>\n",
       "      <td>0.0000</td>\n",
       "      <td>0.0000</td>\n",
       "      <td>0.1242</td>\n",
       "      <td>0.0</td>\n",
       "      <td>0.0097</td>\n",
       "      <td>0.0016</td>\n",
       "      <td>0.0</td>\n",
       "      <td>0.0</td>\n",
       "      <td>226315</td>\n",
       "      <td>252049</td>\n",
       "      <td>251863</td>\n",
       "      <td>267305</td>\n",
       "      <td>0</td>\n",
       "      <td>0</td>\n",
       "      <td>0</td>\n",
       "      <td>0</td>\n",
       "      <td>202144</td>\n",
       "      <td>0</td>\n",
       "      <td>188725</td>\n",
       "      <td>177143</td>\n",
       "      <td>0</td>\n",
       "      <td>0</td>\n",
       "      <td>60959</td>\n",
       "      <td>0.2233</td>\n",
       "      <td>0.0000</td>\n",
       "      <td>0.2636</td>\n",
       "      <td>0.1586</td>\n",
       "      <td>0</td>\n",
       "    </tr>\n",
       "    <tr>\n",
       "      <th>3</th>\n",
       "      <td>2020</td>\n",
       "      <td>1</td>\n",
       "      <td>ID_ABN004</td>\n",
       "      <td>North Sulawesi</td>\n",
       "      <td>Ambon</td>\n",
       "      <td>Uritetu</td>\n",
       "      <td>78</td>\n",
       "      <td>9.646701e+05</td>\n",
       "      <td>0.0256</td>\n",
       "      <td>0.0256</td>\n",
       "      <td>0.0128</td>\n",
       "      <td>0.0000</td>\n",
       "      <td>0.0128</td>\n",
       "      <td>0.0000</td>\n",
       "      <td>0.0000</td>\n",
       "      <td>0.0000</td>\n",
       "      <td>0.0000</td>\n",
       "      <td>0.0</td>\n",
       "      <td>0.0000</td>\n",
       "      <td>0.0000</td>\n",
       "      <td>0.0</td>\n",
       "      <td>0.0</td>\n",
       "      <td>483108</td>\n",
       "      <td>483108</td>\n",
       "      <td>452979</td>\n",
       "      <td>0</td>\n",
       "      <td>513237</td>\n",
       "      <td>0</td>\n",
       "      <td>0</td>\n",
       "      <td>0</td>\n",
       "      <td>0</td>\n",
       "      <td>0</td>\n",
       "      <td>0</td>\n",
       "      <td>0</td>\n",
       "      <td>0</td>\n",
       "      <td>0</td>\n",
       "      <td>12387</td>\n",
       "      <td>0.6000</td>\n",
       "      <td>0.0000</td>\n",
       "      <td>0.1477</td>\n",
       "      <td>0.1477</td>\n",
       "      <td>0</td>\n",
       "    </tr>\n",
       "    <tr>\n",
       "      <th>4</th>\n",
       "      <td>2020</td>\n",
       "      <td>1</td>\n",
       "      <td>ID_ABN005</td>\n",
       "      <td>North Sulawesi</td>\n",
       "      <td>Ambon</td>\n",
       "      <td>Teluk Ambon</td>\n",
       "      <td>465</td>\n",
       "      <td>1.814553e+07</td>\n",
       "      <td>0.1398</td>\n",
       "      <td>0.1355</td>\n",
       "      <td>0.0280</td>\n",
       "      <td>0.0667</td>\n",
       "      <td>0.0215</td>\n",
       "      <td>0.0043</td>\n",
       "      <td>0.0000</td>\n",
       "      <td>0.0151</td>\n",
       "      <td>0.0043</td>\n",
       "      <td>0.0</td>\n",
       "      <td>0.0000</td>\n",
       "      <td>0.0000</td>\n",
       "      <td>0.0</td>\n",
       "      <td>0.0</td>\n",
       "      <td>279132</td>\n",
       "      <td>280525</td>\n",
       "      <td>250164</td>\n",
       "      <td>283867</td>\n",
       "      <td>301978</td>\n",
       "      <td>273050</td>\n",
       "      <td>0</td>\n",
       "      <td>293603</td>\n",
       "      <td>235235</td>\n",
       "      <td>0</td>\n",
       "      <td>0</td>\n",
       "      <td>0</td>\n",
       "      <td>0</td>\n",
       "      <td>0</td>\n",
       "      <td>39018</td>\n",
       "      <td>0.3929</td>\n",
       "      <td>0.0268</td>\n",
       "      <td>0.2327</td>\n",
       "      <td>0.0501</td>\n",
       "      <td>0</td>\n",
       "    </tr>\n",
       "  </tbody>\n",
       "</table>\n",
       "</div>"
      ],
      "text/plain": [
       "   year  month     oyo_id             hub   city      cluster  SRNs  \\\n",
       "0  2020      1  ID_ABN001  North Sulawesi  Ambon       Rijali  1643   \n",
       "1  2020      1  ID_ABN002  North Sulawesi  Ambon     Honipupu   775   \n",
       "2  2020      1  ID_ABN003  North Sulawesi  Ambon  Teluk Ambon   620   \n",
       "3  2020      1  ID_ABN004  North Sulawesi  Ambon      Uritetu    78   \n",
       "4  2020      1  ID_ABN005  North Sulawesi  Ambon  Teluk Ambon   465   \n",
       "\n",
       "            GMV     OCC     OTA  TraveLoka  Booking.com   Agoda  Tiket.com  \\\n",
       "0  2.279401e+07  0.0919  0.0572     0.0426       0.0043  0.0073     0.0030   \n",
       "1  5.915414e+07  0.4477  0.1755     0.0477       0.0374  0.0542     0.0219   \n",
       "2  3.780094e+07  0.2694  0.1339     0.1323       0.0016  0.0000     0.0000   \n",
       "3  9.646701e+05  0.0256  0.0256     0.0128       0.0000  0.0128     0.0000   \n",
       "4  1.814553e+07  0.1398  0.1355     0.0280       0.0667  0.0215     0.0043   \n",
       "\n",
       "   Pegipegi  Expedia     App   MM  Walk_In     Web  Direct  Rest     ARR  \\\n",
       "0    0.0000   0.0000  0.0347  0.0   0.0000  0.0000     0.0   0.0  150962   \n",
       "1    0.0142   0.0000  0.1110  0.0   0.1587  0.0026     0.0   0.0  170489   \n",
       "2    0.0000   0.0000  0.1242  0.0   0.0097  0.0016     0.0   0.0  226315   \n",
       "3    0.0000   0.0000  0.0000  0.0   0.0000  0.0000     0.0   0.0  483108   \n",
       "4    0.0000   0.0151  0.0043  0.0   0.0000  0.0000     0.0   0.0  279132   \n",
       "\n",
       "    OTA.1  TraveLoka.1  Booking.com.1  Agoda.1  Tiket.com.1  Pegipegi.1  \\\n",
       "0  154186       150696         163123   167655       158207           0   \n",
       "1  189042       221809         171822   181331       179856      167862   \n",
       "2  252049       251863         267305        0            0           0   \n",
       "3  483108       452979              0   513237            0           0   \n",
       "4  280525       250164         283867   301978       273050           0   \n",
       "\n",
       "   Expedia.1   App.1  MM.1  Walk_In.1   Web.1  Direct.1  Rest.1  Revpar  \\\n",
       "0          0  145645     0          0       0         0       0   13874   \n",
       "1          0  166299     0     152768  178849         0       0   76335   \n",
       "2          0  202144     0     188725  177143         0       0   60959   \n",
       "3          0       0     0          0       0         0       0   12387   \n",
       "4     293603  235235     0          0       0         0       0   39018   \n",
       "\n",
       "   Cancellations  No_Shows     GTR     NTR  MG_Loss  \n",
       "0         0.3494    0.0892  0.2496  0.1305        0  \n",
       "1         0.2478    0.0043  0.1884  0.1071        0  \n",
       "2         0.2233    0.0000  0.2636  0.1586        0  \n",
       "3         0.6000    0.0000  0.1477  0.1477        0  \n",
       "4         0.3929    0.0268  0.2327  0.0501        0  "
      ]
     },
     "execution_count": 3,
     "metadata": {},
     "output_type": "execute_result"
    }
   ],
   "source": [
    "dfoyo = pd.read_csv('oyo_model.csv')\n",
    "dfoyo.head()"
   ]
  },
  {
   "cell_type": "code",
   "execution_count": 4,
   "metadata": {},
   "outputs": [],
   "source": [
    "# dfoyo.dtypes\n",
    "dfoyo['NTR'].describe()\n",
    "dfoyo['NTR'] = np.float32(dfoyo['NTR'])\n",
    "dfoyo['NTR'].describe()\n",
    "# Terdapat Hub bervalue 0 yang harus di drop\n",
    "dfoyo[dfoyo['hub'] == '0']\n",
    "dfoyo.drop(2831,inplace=True)"
   ]
  },
  {
   "cell_type": "code",
   "execution_count": 5,
   "metadata": {},
   "outputs": [
    {
     "data": {
      "text/plain": [
       "Yogyakarta         395\n",
       "Jakarta            303\n",
       "Bali Nusra         290\n",
       "South Sumatra      285\n",
       "North Sumatra      260\n",
       "East Java 1        245\n",
       "East Java 2        226\n",
       "Central Sumatra    218\n",
       "West Java 1        213\n",
       "West Java 2        165\n",
       "Central Java       138\n",
       "East Java 3        102\n",
       "South Sulawesi      97\n",
       "Kalimantan          91\n",
       "North Sulawesi      78\n",
       "Bogor               74\n",
       "BC                  48\n",
       "Name: hub, dtype: int64"
      ]
     },
     "execution_count": 5,
     "metadata": {},
     "output_type": "execute_result"
    }
   ],
   "source": [
    "dfoyo['hub'].value_counts()"
   ]
  },
  {
   "cell_type": "markdown",
   "metadata": {},
   "source": [
    "#### Grouping Hub into Area"
   ]
  },
  {
   "cell_type": "code",
   "execution_count": 6,
   "metadata": {},
   "outputs": [
    {
     "data": {
      "text/plain": [
       "['West Java 1', 'West Java 2', 'Bogor', 'BC']"
      ]
     },
     "execution_count": 6,
     "metadata": {},
     "output_type": "execute_result"
    }
   ],
   "source": [
    "jakarta = ['Jakarta']\n",
    "luar = ['Bali Nusra','North Sulawesi','South Sulawesi','Kalimantan']\n",
    "sumatra = ['South Sumatra','North Sumatra','Central Sumatra']\n",
    "javamideast = ['Yogyakarta','East Java 1','East Java 2','East Java 3']\n",
    "javawest = ['West Java 1','West Java 2', 'Bogor','BC']\n",
    "javawest"
   ]
  },
  {
   "cell_type": "code",
   "execution_count": 7,
   "metadata": {},
   "outputs": [],
   "source": [
    "def hub_cat(x):\n",
    "    if x in jakarta:\n",
    "        x = 0\n",
    "    elif x in luar:\n",
    "        x = 1\n",
    "    elif x in sumatra:\n",
    "         x = 2\n",
    "    elif x in javamideast:\n",
    "        x = 3\n",
    "    else:\n",
    "        x = 4\n",
    "    return x"
   ]
  },
  {
   "cell_type": "code",
   "execution_count": 8,
   "metadata": {},
   "outputs": [],
   "source": [
    "dfoyo['area'] = dfoyo.hub.apply(hub_cat)"
   ]
  },
  {
   "cell_type": "code",
   "execution_count": 9,
   "metadata": {},
   "outputs": [
    {
     "data": {
      "text/html": [
       "<div>\n",
       "<style scoped>\n",
       "    .dataframe tbody tr th:only-of-type {\n",
       "        vertical-align: middle;\n",
       "    }\n",
       "\n",
       "    .dataframe tbody tr th {\n",
       "        vertical-align: top;\n",
       "    }\n",
       "\n",
       "    .dataframe thead th {\n",
       "        text-align: right;\n",
       "    }\n",
       "</style>\n",
       "<table border=\"1\" class=\"dataframe\">\n",
       "  <thead>\n",
       "    <tr style=\"text-align: right;\">\n",
       "      <th></th>\n",
       "      <th>year</th>\n",
       "      <th>month</th>\n",
       "      <th>oyo_id</th>\n",
       "      <th>hub</th>\n",
       "      <th>city</th>\n",
       "      <th>cluster</th>\n",
       "      <th>SRNs</th>\n",
       "      <th>GMV</th>\n",
       "      <th>OCC</th>\n",
       "      <th>OTA</th>\n",
       "      <th>TraveLoka</th>\n",
       "      <th>Booking.com</th>\n",
       "      <th>Agoda</th>\n",
       "      <th>Tiket.com</th>\n",
       "      <th>Pegipegi</th>\n",
       "      <th>Expedia</th>\n",
       "      <th>App</th>\n",
       "      <th>MM</th>\n",
       "      <th>Walk_In</th>\n",
       "      <th>Web</th>\n",
       "      <th>Direct</th>\n",
       "      <th>Rest</th>\n",
       "      <th>ARR</th>\n",
       "      <th>OTA.1</th>\n",
       "      <th>TraveLoka.1</th>\n",
       "      <th>Booking.com.1</th>\n",
       "      <th>Agoda.1</th>\n",
       "      <th>Tiket.com.1</th>\n",
       "      <th>Pegipegi.1</th>\n",
       "      <th>Expedia.1</th>\n",
       "      <th>App.1</th>\n",
       "      <th>MM.1</th>\n",
       "      <th>Walk_In.1</th>\n",
       "      <th>Web.1</th>\n",
       "      <th>Direct.1</th>\n",
       "      <th>Rest.1</th>\n",
       "      <th>Revpar</th>\n",
       "      <th>Cancellations</th>\n",
       "      <th>No_Shows</th>\n",
       "      <th>GTR</th>\n",
       "      <th>NTR</th>\n",
       "      <th>MG_Loss</th>\n",
       "      <th>area</th>\n",
       "    </tr>\n",
       "  </thead>\n",
       "  <tbody>\n",
       "    <tr>\n",
       "      <th>0</th>\n",
       "      <td>2020</td>\n",
       "      <td>1</td>\n",
       "      <td>ID_ABN001</td>\n",
       "      <td>North Sulawesi</td>\n",
       "      <td>Ambon</td>\n",
       "      <td>Rijali</td>\n",
       "      <td>1643</td>\n",
       "      <td>2.279401e+07</td>\n",
       "      <td>0.0919</td>\n",
       "      <td>0.0572</td>\n",
       "      <td>0.0426</td>\n",
       "      <td>0.0043</td>\n",
       "      <td>0.0073</td>\n",
       "      <td>0.0030</td>\n",
       "      <td>0.0000</td>\n",
       "      <td>0.0000</td>\n",
       "      <td>0.0347</td>\n",
       "      <td>0.0</td>\n",
       "      <td>0.0000</td>\n",
       "      <td>0.0000</td>\n",
       "      <td>0.0</td>\n",
       "      <td>0.0</td>\n",
       "      <td>150962</td>\n",
       "      <td>154186</td>\n",
       "      <td>150696</td>\n",
       "      <td>163123</td>\n",
       "      <td>167655</td>\n",
       "      <td>158207</td>\n",
       "      <td>0</td>\n",
       "      <td>0</td>\n",
       "      <td>145645</td>\n",
       "      <td>0</td>\n",
       "      <td>0</td>\n",
       "      <td>0</td>\n",
       "      <td>0</td>\n",
       "      <td>0</td>\n",
       "      <td>13874</td>\n",
       "      <td>0.3494</td>\n",
       "      <td>0.0892</td>\n",
       "      <td>0.2496</td>\n",
       "      <td>0.1305</td>\n",
       "      <td>0</td>\n",
       "      <td>1</td>\n",
       "    </tr>\n",
       "    <tr>\n",
       "      <th>1</th>\n",
       "      <td>2020</td>\n",
       "      <td>1</td>\n",
       "      <td>ID_ABN002</td>\n",
       "      <td>North Sulawesi</td>\n",
       "      <td>Ambon</td>\n",
       "      <td>Honipupu</td>\n",
       "      <td>775</td>\n",
       "      <td>5.915414e+07</td>\n",
       "      <td>0.4477</td>\n",
       "      <td>0.1755</td>\n",
       "      <td>0.0477</td>\n",
       "      <td>0.0374</td>\n",
       "      <td>0.0542</td>\n",
       "      <td>0.0219</td>\n",
       "      <td>0.0142</td>\n",
       "      <td>0.0000</td>\n",
       "      <td>0.1110</td>\n",
       "      <td>0.0</td>\n",
       "      <td>0.1587</td>\n",
       "      <td>0.0026</td>\n",
       "      <td>0.0</td>\n",
       "      <td>0.0</td>\n",
       "      <td>170489</td>\n",
       "      <td>189042</td>\n",
       "      <td>221809</td>\n",
       "      <td>171822</td>\n",
       "      <td>181331</td>\n",
       "      <td>179856</td>\n",
       "      <td>167862</td>\n",
       "      <td>0</td>\n",
       "      <td>166299</td>\n",
       "      <td>0</td>\n",
       "      <td>152768</td>\n",
       "      <td>178849</td>\n",
       "      <td>0</td>\n",
       "      <td>0</td>\n",
       "      <td>76335</td>\n",
       "      <td>0.2478</td>\n",
       "      <td>0.0043</td>\n",
       "      <td>0.1884</td>\n",
       "      <td>0.1071</td>\n",
       "      <td>0</td>\n",
       "      <td>1</td>\n",
       "    </tr>\n",
       "    <tr>\n",
       "      <th>2</th>\n",
       "      <td>2020</td>\n",
       "      <td>1</td>\n",
       "      <td>ID_ABN003</td>\n",
       "      <td>North Sulawesi</td>\n",
       "      <td>Ambon</td>\n",
       "      <td>Teluk Ambon</td>\n",
       "      <td>620</td>\n",
       "      <td>3.780094e+07</td>\n",
       "      <td>0.2694</td>\n",
       "      <td>0.1339</td>\n",
       "      <td>0.1323</td>\n",
       "      <td>0.0016</td>\n",
       "      <td>0.0000</td>\n",
       "      <td>0.0000</td>\n",
       "      <td>0.0000</td>\n",
       "      <td>0.0000</td>\n",
       "      <td>0.1242</td>\n",
       "      <td>0.0</td>\n",
       "      <td>0.0097</td>\n",
       "      <td>0.0016</td>\n",
       "      <td>0.0</td>\n",
       "      <td>0.0</td>\n",
       "      <td>226315</td>\n",
       "      <td>252049</td>\n",
       "      <td>251863</td>\n",
       "      <td>267305</td>\n",
       "      <td>0</td>\n",
       "      <td>0</td>\n",
       "      <td>0</td>\n",
       "      <td>0</td>\n",
       "      <td>202144</td>\n",
       "      <td>0</td>\n",
       "      <td>188725</td>\n",
       "      <td>177143</td>\n",
       "      <td>0</td>\n",
       "      <td>0</td>\n",
       "      <td>60959</td>\n",
       "      <td>0.2233</td>\n",
       "      <td>0.0000</td>\n",
       "      <td>0.2636</td>\n",
       "      <td>0.1586</td>\n",
       "      <td>0</td>\n",
       "      <td>1</td>\n",
       "    </tr>\n",
       "    <tr>\n",
       "      <th>3</th>\n",
       "      <td>2020</td>\n",
       "      <td>1</td>\n",
       "      <td>ID_ABN004</td>\n",
       "      <td>North Sulawesi</td>\n",
       "      <td>Ambon</td>\n",
       "      <td>Uritetu</td>\n",
       "      <td>78</td>\n",
       "      <td>9.646701e+05</td>\n",
       "      <td>0.0256</td>\n",
       "      <td>0.0256</td>\n",
       "      <td>0.0128</td>\n",
       "      <td>0.0000</td>\n",
       "      <td>0.0128</td>\n",
       "      <td>0.0000</td>\n",
       "      <td>0.0000</td>\n",
       "      <td>0.0000</td>\n",
       "      <td>0.0000</td>\n",
       "      <td>0.0</td>\n",
       "      <td>0.0000</td>\n",
       "      <td>0.0000</td>\n",
       "      <td>0.0</td>\n",
       "      <td>0.0</td>\n",
       "      <td>483108</td>\n",
       "      <td>483108</td>\n",
       "      <td>452979</td>\n",
       "      <td>0</td>\n",
       "      <td>513237</td>\n",
       "      <td>0</td>\n",
       "      <td>0</td>\n",
       "      <td>0</td>\n",
       "      <td>0</td>\n",
       "      <td>0</td>\n",
       "      <td>0</td>\n",
       "      <td>0</td>\n",
       "      <td>0</td>\n",
       "      <td>0</td>\n",
       "      <td>12387</td>\n",
       "      <td>0.6000</td>\n",
       "      <td>0.0000</td>\n",
       "      <td>0.1477</td>\n",
       "      <td>0.1477</td>\n",
       "      <td>0</td>\n",
       "      <td>1</td>\n",
       "    </tr>\n",
       "    <tr>\n",
       "      <th>4</th>\n",
       "      <td>2020</td>\n",
       "      <td>1</td>\n",
       "      <td>ID_ABN005</td>\n",
       "      <td>North Sulawesi</td>\n",
       "      <td>Ambon</td>\n",
       "      <td>Teluk Ambon</td>\n",
       "      <td>465</td>\n",
       "      <td>1.814553e+07</td>\n",
       "      <td>0.1398</td>\n",
       "      <td>0.1355</td>\n",
       "      <td>0.0280</td>\n",
       "      <td>0.0667</td>\n",
       "      <td>0.0215</td>\n",
       "      <td>0.0043</td>\n",
       "      <td>0.0000</td>\n",
       "      <td>0.0151</td>\n",
       "      <td>0.0043</td>\n",
       "      <td>0.0</td>\n",
       "      <td>0.0000</td>\n",
       "      <td>0.0000</td>\n",
       "      <td>0.0</td>\n",
       "      <td>0.0</td>\n",
       "      <td>279132</td>\n",
       "      <td>280525</td>\n",
       "      <td>250164</td>\n",
       "      <td>283867</td>\n",
       "      <td>301978</td>\n",
       "      <td>273050</td>\n",
       "      <td>0</td>\n",
       "      <td>293603</td>\n",
       "      <td>235235</td>\n",
       "      <td>0</td>\n",
       "      <td>0</td>\n",
       "      <td>0</td>\n",
       "      <td>0</td>\n",
       "      <td>0</td>\n",
       "      <td>39018</td>\n",
       "      <td>0.3929</td>\n",
       "      <td>0.0268</td>\n",
       "      <td>0.2327</td>\n",
       "      <td>0.0501</td>\n",
       "      <td>0</td>\n",
       "      <td>1</td>\n",
       "    </tr>\n",
       "  </tbody>\n",
       "</table>\n",
       "</div>"
      ],
      "text/plain": [
       "   year  month     oyo_id             hub   city      cluster  SRNs  \\\n",
       "0  2020      1  ID_ABN001  North Sulawesi  Ambon       Rijali  1643   \n",
       "1  2020      1  ID_ABN002  North Sulawesi  Ambon     Honipupu   775   \n",
       "2  2020      1  ID_ABN003  North Sulawesi  Ambon  Teluk Ambon   620   \n",
       "3  2020      1  ID_ABN004  North Sulawesi  Ambon      Uritetu    78   \n",
       "4  2020      1  ID_ABN005  North Sulawesi  Ambon  Teluk Ambon   465   \n",
       "\n",
       "            GMV     OCC     OTA  TraveLoka  Booking.com   Agoda  Tiket.com  \\\n",
       "0  2.279401e+07  0.0919  0.0572     0.0426       0.0043  0.0073     0.0030   \n",
       "1  5.915414e+07  0.4477  0.1755     0.0477       0.0374  0.0542     0.0219   \n",
       "2  3.780094e+07  0.2694  0.1339     0.1323       0.0016  0.0000     0.0000   \n",
       "3  9.646701e+05  0.0256  0.0256     0.0128       0.0000  0.0128     0.0000   \n",
       "4  1.814553e+07  0.1398  0.1355     0.0280       0.0667  0.0215     0.0043   \n",
       "\n",
       "   Pegipegi  Expedia     App   MM  Walk_In     Web  Direct  Rest     ARR  \\\n",
       "0    0.0000   0.0000  0.0347  0.0   0.0000  0.0000     0.0   0.0  150962   \n",
       "1    0.0142   0.0000  0.1110  0.0   0.1587  0.0026     0.0   0.0  170489   \n",
       "2    0.0000   0.0000  0.1242  0.0   0.0097  0.0016     0.0   0.0  226315   \n",
       "3    0.0000   0.0000  0.0000  0.0   0.0000  0.0000     0.0   0.0  483108   \n",
       "4    0.0000   0.0151  0.0043  0.0   0.0000  0.0000     0.0   0.0  279132   \n",
       "\n",
       "    OTA.1  TraveLoka.1  Booking.com.1  Agoda.1  Tiket.com.1  Pegipegi.1  \\\n",
       "0  154186       150696         163123   167655       158207           0   \n",
       "1  189042       221809         171822   181331       179856      167862   \n",
       "2  252049       251863         267305        0            0           0   \n",
       "3  483108       452979              0   513237            0           0   \n",
       "4  280525       250164         283867   301978       273050           0   \n",
       "\n",
       "   Expedia.1   App.1  MM.1  Walk_In.1   Web.1  Direct.1  Rest.1  Revpar  \\\n",
       "0          0  145645     0          0       0         0       0   13874   \n",
       "1          0  166299     0     152768  178849         0       0   76335   \n",
       "2          0  202144     0     188725  177143         0       0   60959   \n",
       "3          0       0     0          0       0         0       0   12387   \n",
       "4     293603  235235     0          0       0         0       0   39018   \n",
       "\n",
       "   Cancellations  No_Shows     GTR     NTR  MG_Loss  area  \n",
       "0         0.3494    0.0892  0.2496  0.1305        0     1  \n",
       "1         0.2478    0.0043  0.1884  0.1071        0     1  \n",
       "2         0.2233    0.0000  0.2636  0.1586        0     1  \n",
       "3         0.6000    0.0000  0.1477  0.1477        0     1  \n",
       "4         0.3929    0.0268  0.2327  0.0501        0     1  "
      ]
     },
     "execution_count": 9,
     "metadata": {},
     "output_type": "execute_result"
    }
   ],
   "source": [
    "dfoyo.head()"
   ]
  },
  {
   "cell_type": "markdown",
   "metadata": {},
   "source": [
    "<hr>"
   ]
  },
  {
   "cell_type": "code",
   "execution_count": 10,
   "metadata": {},
   "outputs": [],
   "source": [
    "# Mengubah apabila ada inf values pada fitur NTR lalu mengubahnya ke Nan values\n",
    "dfoyo['NTR'].replace([np.inf, -np.inf], np.nan, inplace=True)\n",
    "dfoyo['GTR'].replace([np.inf, -np.inf], np.nan, inplace=True)\n",
    "\n",
    "\n",
    "#Setelah Diubah menjadi Nan Values, kemudian value tersebut diisi dengan mean\n",
    "dfoyo['NTR'].fillna(dfoyo['NTR'].mean(), inplace=True)\n",
    "dfoyo['GTR'].fillna(dfoyo['GTR'].mean(), inplace=True)\n",
    "dfoyo['GMV'] = dfoyo['GMV'].replace([np.inf, -np.inf], np.nan)\n",
    "dfoyo['GMV'].dropna()\n",
    "\n",
    "dfoyo['MG_Loss'] = dfoyo['MG_Loss'].replace([np.inf, -np.inf], np.nan)\n",
    "dfoyo['MG_Loss'].dropna()\n",
    "dfoyo['MG_Loss'] = np.float32(dfoyo['MG_Loss'])\n",
    "# dfoyo['MG_Loss'].describe()"
   ]
  },
  {
   "cell_type": "code",
   "execution_count": 11,
   "metadata": {},
   "outputs": [],
   "source": [
    "dfoyo.drop(columns=['hub'],inplace=True)"
   ]
  },
  {
   "cell_type": "code",
   "execution_count": 12,
   "metadata": {},
   "outputs": [
    {
     "data": {
      "text/html": [
       "<div>\n",
       "<style scoped>\n",
       "    .dataframe tbody tr th:only-of-type {\n",
       "        vertical-align: middle;\n",
       "    }\n",
       "\n",
       "    .dataframe tbody tr th {\n",
       "        vertical-align: top;\n",
       "    }\n",
       "\n",
       "    .dataframe thead th {\n",
       "        text-align: right;\n",
       "    }\n",
       "</style>\n",
       "<table border=\"1\" class=\"dataframe\">\n",
       "  <thead>\n",
       "    <tr style=\"text-align: right;\">\n",
       "      <th></th>\n",
       "      <th>GMV</th>\n",
       "      <th>NTR</th>\n",
       "    </tr>\n",
       "  </thead>\n",
       "  <tbody>\n",
       "    <tr>\n",
       "      <th>0</th>\n",
       "      <td>2.279401e+07</td>\n",
       "      <td>0.1305</td>\n",
       "    </tr>\n",
       "    <tr>\n",
       "      <th>1</th>\n",
       "      <td>5.915414e+07</td>\n",
       "      <td>0.1071</td>\n",
       "    </tr>\n",
       "    <tr>\n",
       "      <th>2</th>\n",
       "      <td>3.780094e+07</td>\n",
       "      <td>0.1586</td>\n",
       "    </tr>\n",
       "    <tr>\n",
       "      <th>3</th>\n",
       "      <td>9.646701e+05</td>\n",
       "      <td>0.1477</td>\n",
       "    </tr>\n",
       "    <tr>\n",
       "      <th>4</th>\n",
       "      <td>1.814553e+07</td>\n",
       "      <td>0.0501</td>\n",
       "    </tr>\n",
       "    <tr>\n",
       "      <th>...</th>\n",
       "      <td>...</td>\n",
       "      <td>...</td>\n",
       "    </tr>\n",
       "    <tr>\n",
       "      <th>3224</th>\n",
       "      <td>0.000000e+00</td>\n",
       "      <td>0.0000</td>\n",
       "    </tr>\n",
       "    <tr>\n",
       "      <th>3225</th>\n",
       "      <td>0.000000e+00</td>\n",
       "      <td>0.0000</td>\n",
       "    </tr>\n",
       "    <tr>\n",
       "      <th>3226</th>\n",
       "      <td>5.359992e+06</td>\n",
       "      <td>0.0000</td>\n",
       "    </tr>\n",
       "    <tr>\n",
       "      <th>3227</th>\n",
       "      <td>0.000000e+00</td>\n",
       "      <td>0.0000</td>\n",
       "    </tr>\n",
       "    <tr>\n",
       "      <th>3228</th>\n",
       "      <td>0.000000e+00</td>\n",
       "      <td>0.0000</td>\n",
       "    </tr>\n",
       "  </tbody>\n",
       "</table>\n",
       "<p>3228 rows × 2 columns</p>\n",
       "</div>"
      ],
      "text/plain": [
       "               GMV     NTR\n",
       "0     2.279401e+07  0.1305\n",
       "1     5.915414e+07  0.1071\n",
       "2     3.780094e+07  0.1586\n",
       "3     9.646701e+05  0.1477\n",
       "4     1.814553e+07  0.0501\n",
       "...            ...     ...\n",
       "3224  0.000000e+00  0.0000\n",
       "3225  0.000000e+00  0.0000\n",
       "3226  5.359992e+06  0.0000\n",
       "3227  0.000000e+00  0.0000\n",
       "3228  0.000000e+00  0.0000\n",
       "\n",
       "[3228 rows x 2 columns]"
      ]
     },
     "execution_count": 12,
     "metadata": {},
     "output_type": "execute_result"
    }
   ],
   "source": [
    "# Clustering based on 2 feature\n",
    "x = pd.DataFrame()\n",
    "x['GMV'] = dfoyo['GMV']\n",
    "x['NTR'] = dfoyo['NTR']\n",
    "x"
   ]
  },
  {
   "cell_type": "markdown",
   "metadata": {},
   "source": [
    "### Determine the target "
   ]
  },
  {
   "cell_type": "code",
   "execution_count": 13,
   "metadata": {},
   "outputs": [],
   "source": [
    "# Kmeans = KMeans(n_clusters = 2, init ='k-means++', max_iter = 300, n_init=10,random_state = 42)\n",
    "# y_means = Kmeans.fit_predict(x)\n",
    "# x['cat'] = y_means\n",
    "# x['cat'].unique()"
   ]
  },
  {
   "cell_type": "code",
   "execution_count": 14,
   "metadata": {},
   "outputs": [],
   "source": [
    "dfoyo['target'] = dfoyo.apply(lambda x : 0 if (x['NTR'] >= 0.05) else 1,axis=1)\n"
   ]
  },
  {
   "cell_type": "code",
   "execution_count": 15,
   "metadata": {},
   "outputs": [
    {
     "data": {
      "text/plain": [
       "count    3228.000000\n",
       "mean        0.115351\n",
       "std         0.514044\n",
       "min        -7.310400\n",
       "25%         0.000000\n",
       "50%         0.130050\n",
       "75%         0.262725\n",
       "max         8.748300\n",
       "Name: NTR, dtype: float64"
      ]
     },
     "execution_count": 15,
     "metadata": {},
     "output_type": "execute_result"
    }
   ],
   "source": [
    "dfoyo['NTR'].describe()"
   ]
  },
  {
   "cell_type": "code",
   "execution_count": 16,
   "metadata": {},
   "outputs": [],
   "source": [
    "# np.all(np.isfinite(dfoyo['GTR','NTR','GMV'])) #'SRNs','GMV','OCC','OTA','Revpar','GTR','NTR'"
   ]
  },
  {
   "cell_type": "code",
   "execution_count": 17,
   "metadata": {},
   "outputs": [],
   "source": [
    "dfoyo = dfoyo.drop(columns=['year','oyo_id','TraveLoka', 'Booking.com', 'Agoda', 'Tiket.com',\n",
    "       'Pegipegi', 'Expedia','OTA.1', 'TraveLoka.1', 'Booking.com.1', 'Agoda.1',\n",
    "       'Tiket.com.1', 'Pegipegi.1', 'Expedia.1', 'App.1', 'MM.1', 'Walk_In.1',\n",
    "       'Web.1', 'Direct.1', 'Rest.1','city','cluster','month'])\n",
    "\n"
   ]
  },
  {
   "cell_type": "code",
   "execution_count": 18,
   "metadata": {},
   "outputs": [
    {
     "data": {
      "image/png": "[encoded data removed]",
      "text/plain": [
       "<Figure size 1440x720 with 2 Axes>"
      ]
     },
     "metadata": {
      "needs_background": "light"
     },
     "output_type": "display_data"
    }
   ],
   "source": [
    "plt.figure(figsize=(20,10))\n",
    "sb.heatmap(dfoyo.corr(),annot=True,cmap=\"magma_r\")\n",
    "plt.show()"
   ]
  },
  {
   "cell_type": "code",
   "execution_count": 19,
   "metadata": {},
   "outputs": [
    {
     "data": {
      "text/plain": [
       "<matplotlib.axes._subplots.AxesSubplot at 0x1aaf209c048>"
      ]
     },
     "execution_count": 19,
     "metadata": {},
     "output_type": "execute_result"
    },
    {
     "data": {
      "image/png": "[encoded data removed]",
      "text/plain": [
       "<Figure size 432x288 with 1 Axes>"
      ]
     },
     "metadata": {
      "needs_background": "light"
     },
     "output_type": "display_data"
    }
   ],
   "source": [
    "# dfoyo.dtypes\n",
    "sb.boxplot(x='target',y='NTR', data=dfoyo)\n"
   ]
  },
  {
   "cell_type": "code",
   "execution_count": 20,
   "metadata": {},
   "outputs": [
    {
     "data": {
      "text/plain": [
       "Index(['SRNs', 'GMV', 'OCC', 'OTA', 'App', 'MM', 'Walk_In', 'Web', 'Direct',\n",
       "       'Rest', 'ARR', 'Revpar', 'Cancellations', 'No_Shows', 'GTR', 'NTR',\n",
       "       'MG_Loss', 'area', 'target'],\n",
       "      dtype='object')"
      ]
     },
     "execution_count": 20,
     "metadata": {},
     "output_type": "execute_result"
    }
   ],
   "source": [
    "dfoyo.columns"
   ]
  },
  {
   "cell_type": "code",
   "execution_count": 21,
   "metadata": {},
   "outputs": [],
   "source": [
    "col = [ 'OCC', 'OTA', 'App', 'MM', 'Walk_In', 'Web', 'Direct',\n",
    "       'Rest', 'Cancellations', 'No_Shows', 'GTR', 'NTR',\n",
    "       'MG_Loss']"
   ]
  },
  {
   "cell_type": "code",
   "execution_count": 22,
   "metadata": {},
   "outputs": [],
   "source": [
    "for i in col:\n",
    "    dfoyo[i] = round(dfoyo[i]*100,2)"
   ]
  },
  {
   "cell_type": "code",
   "execution_count": 23,
   "metadata": {},
   "outputs": [
    {
     "data": {
      "text/html": [
       "<div>\n",
       "<style scoped>\n",
       "    .dataframe tbody tr th:only-of-type {\n",
       "        vertical-align: middle;\n",
       "    }\n",
       "\n",
       "    .dataframe tbody tr th {\n",
       "        vertical-align: top;\n",
       "    }\n",
       "\n",
       "    .dataframe thead th {\n",
       "        text-align: right;\n",
       "    }\n",
       "</style>\n",
       "<table border=\"1\" class=\"dataframe\">\n",
       "  <thead>\n",
       "    <tr style=\"text-align: right;\">\n",
       "      <th></th>\n",
       "      <th>SRNs</th>\n",
       "      <th>GMV</th>\n",
       "      <th>OCC</th>\n",
       "      <th>OTA</th>\n",
       "      <th>App</th>\n",
       "      <th>MM</th>\n",
       "      <th>Walk_In</th>\n",
       "      <th>Web</th>\n",
       "      <th>Direct</th>\n",
       "      <th>Rest</th>\n",
       "      <th>ARR</th>\n",
       "      <th>Revpar</th>\n",
       "      <th>Cancellations</th>\n",
       "      <th>No_Shows</th>\n",
       "      <th>GTR</th>\n",
       "      <th>NTR</th>\n",
       "      <th>MG_Loss</th>\n",
       "      <th>area</th>\n",
       "      <th>target</th>\n",
       "    </tr>\n",
       "  </thead>\n",
       "  <tbody>\n",
       "    <tr>\n",
       "      <th>0</th>\n",
       "      <td>1643</td>\n",
       "      <td>2.279401e+07</td>\n",
       "      <td>9.19</td>\n",
       "      <td>5.72</td>\n",
       "      <td>3.47</td>\n",
       "      <td>0.0</td>\n",
       "      <td>0.00</td>\n",
       "      <td>0.00</td>\n",
       "      <td>0.0</td>\n",
       "      <td>0.0</td>\n",
       "      <td>150962</td>\n",
       "      <td>13874</td>\n",
       "      <td>34.94</td>\n",
       "      <td>8.92</td>\n",
       "      <td>24.96</td>\n",
       "      <td>13.05</td>\n",
       "      <td>0.0</td>\n",
       "      <td>1</td>\n",
       "      <td>0</td>\n",
       "    </tr>\n",
       "    <tr>\n",
       "      <th>1</th>\n",
       "      <td>775</td>\n",
       "      <td>5.915414e+07</td>\n",
       "      <td>44.77</td>\n",
       "      <td>17.55</td>\n",
       "      <td>11.10</td>\n",
       "      <td>0.0</td>\n",
       "      <td>15.87</td>\n",
       "      <td>0.26</td>\n",
       "      <td>0.0</td>\n",
       "      <td>0.0</td>\n",
       "      <td>170489</td>\n",
       "      <td>76335</td>\n",
       "      <td>24.78</td>\n",
       "      <td>0.43</td>\n",
       "      <td>18.84</td>\n",
       "      <td>10.71</td>\n",
       "      <td>0.0</td>\n",
       "      <td>1</td>\n",
       "      <td>0</td>\n",
       "    </tr>\n",
       "    <tr>\n",
       "      <th>2</th>\n",
       "      <td>620</td>\n",
       "      <td>3.780094e+07</td>\n",
       "      <td>26.94</td>\n",
       "      <td>13.39</td>\n",
       "      <td>12.42</td>\n",
       "      <td>0.0</td>\n",
       "      <td>0.97</td>\n",
       "      <td>0.16</td>\n",
       "      <td>0.0</td>\n",
       "      <td>0.0</td>\n",
       "      <td>226315</td>\n",
       "      <td>60959</td>\n",
       "      <td>22.33</td>\n",
       "      <td>0.00</td>\n",
       "      <td>26.36</td>\n",
       "      <td>15.86</td>\n",
       "      <td>0.0</td>\n",
       "      <td>1</td>\n",
       "      <td>0</td>\n",
       "    </tr>\n",
       "    <tr>\n",
       "      <th>3</th>\n",
       "      <td>78</td>\n",
       "      <td>9.646701e+05</td>\n",
       "      <td>2.56</td>\n",
       "      <td>2.56</td>\n",
       "      <td>0.00</td>\n",
       "      <td>0.0</td>\n",
       "      <td>0.00</td>\n",
       "      <td>0.00</td>\n",
       "      <td>0.0</td>\n",
       "      <td>0.0</td>\n",
       "      <td>483108</td>\n",
       "      <td>12387</td>\n",
       "      <td>60.00</td>\n",
       "      <td>0.00</td>\n",
       "      <td>14.77</td>\n",
       "      <td>14.77</td>\n",
       "      <td>0.0</td>\n",
       "      <td>1</td>\n",
       "      <td>0</td>\n",
       "    </tr>\n",
       "    <tr>\n",
       "      <th>4</th>\n",
       "      <td>465</td>\n",
       "      <td>1.814553e+07</td>\n",
       "      <td>13.98</td>\n",
       "      <td>13.55</td>\n",
       "      <td>0.43</td>\n",
       "      <td>0.0</td>\n",
       "      <td>0.00</td>\n",
       "      <td>0.00</td>\n",
       "      <td>0.0</td>\n",
       "      <td>0.0</td>\n",
       "      <td>279132</td>\n",
       "      <td>39018</td>\n",
       "      <td>39.29</td>\n",
       "      <td>2.68</td>\n",
       "      <td>23.27</td>\n",
       "      <td>5.01</td>\n",
       "      <td>0.0</td>\n",
       "      <td>1</td>\n",
       "      <td>0</td>\n",
       "    </tr>\n",
       "  </tbody>\n",
       "</table>\n",
       "</div>"
      ],
      "text/plain": [
       "   SRNs           GMV    OCC    OTA    App   MM  Walk_In   Web  Direct  Rest  \\\n",
       "0  1643  2.279401e+07   9.19   5.72   3.47  0.0     0.00  0.00     0.0   0.0   \n",
       "1   775  5.915414e+07  44.77  17.55  11.10  0.0    15.87  0.26     0.0   0.0   \n",
       "2   620  3.780094e+07  26.94  13.39  12.42  0.0     0.97  0.16     0.0   0.0   \n",
       "3    78  9.646701e+05   2.56   2.56   0.00  0.0     0.00  0.00     0.0   0.0   \n",
       "4   465  1.814553e+07  13.98  13.55   0.43  0.0     0.00  0.00     0.0   0.0   \n",
       "\n",
       "      ARR  Revpar  Cancellations  No_Shows    GTR    NTR  MG_Loss  area  \\\n",
       "0  150962   13874          34.94      8.92  24.96  13.05      0.0     1   \n",
       "1  170489   76335          24.78      0.43  18.84  10.71      0.0     1   \n",
       "2  226315   60959          22.33      0.00  26.36  15.86      0.0     1   \n",
       "3  483108   12387          60.00      0.00  14.77  14.77      0.0     1   \n",
       "4  279132   39018          39.29      2.68  23.27   5.01      0.0     1   \n",
       "\n",
       "   target  \n",
       "0       0  \n",
       "1       0  \n",
       "2       0  \n",
       "3       0  \n",
       "4       0  "
      ]
     },
     "execution_count": 23,
     "metadata": {},
     "output_type": "execute_result"
    }
   ],
   "source": [
    "dfoyo.head()"
   ]
  },
  {
   "cell_type": "code",
   "execution_count": 24,
   "metadata": {},
   "outputs": [],
   "source": [
    "def findScore(model, paramXTest, paramYTest):\n",
    "    yPred = model.predict(paramXTest)\n",
    "    predDict = dict()\n",
    "    \n",
    "    print(\"Model: \", model)\n",
    "    predDict['Model'] = model\n",
    "    \n",
    "    tn, fn, fp, tp = confusion_matrix(paramYTest, yPred).ravel()\n",
    "    print(\"\\nTrue Positive: \", tp)\n",
    "    print(\"True Negative: \", tn)\n",
    "    print(\"False Positive: \", fp)\n",
    "    print(\"False Negative: \", fn)\n",
    "    print(\"\\nBalanced Accuracy Score: \", balanced_accuracy_score(paramYTest, yPred))\n",
    "    predDict['bACC'] = balanced_accuracy_score(paramYTest, yPred)\n",
    "    print(\"ROC AUC Score: \", roc_auc_score(paramYTest, yPred, multi_class = 'ovo'))\n",
    "    predDict['ROCAUC'] = roc_auc_score(paramYTest, yPred, multi_class = 'ovo')\n",
    "    print(\"Classification Report: \\n\", classification_report(paramYTest, yPred)) \n",
    "    predDict['ClassificationRep'] = classification_report(paramYTest, yPred)\n",
    "    print(\"\\n\")\n",
    "    return predDict"
   ]
  },
  {
   "cell_type": "markdown",
   "metadata": {},
   "source": [
    "#### Splitting Data Train and Test"
   ]
  },
  {
   "cell_type": "code",
   "execution_count": 25,
   "metadata": {},
   "outputs": [],
   "source": [
    "from sklearn.model_selection import train_test_split"
   ]
  },
  {
   "cell_type": "code",
   "execution_count": 26,
   "metadata": {},
   "outputs": [
    {
     "data": {
      "text/plain": [
       "0    1939\n",
       "1    1289\n",
       "Name: target, dtype: int64"
      ]
     },
     "execution_count": 26,
     "metadata": {},
     "output_type": "execute_result"
    }
   ],
   "source": [
    "dfoyo['target'].value_counts()"
   ]
  },
  {
   "cell_type": "code",
   "execution_count": 27,
   "metadata": {},
   "outputs": [],
   "source": [
    "# Splitting the data\n",
    "x = dfoyo.drop(columns=['target', 'GMV','NTR'])\n",
    "y = dfoyo['target']\n",
    "xtr,xts,ytr,yts = train_test_split(x,y,test_size=.2,random_state=42,stratify=y)"
   ]
  },
  {
   "cell_type": "code",
   "execution_count": 28,
   "metadata": {},
   "outputs": [
    {
     "data": {
      "text/plain": [
       "0.8854489164086687"
      ]
     },
     "execution_count": 28,
     "metadata": {},
     "output_type": "execute_result"
    }
   ],
   "source": [
    "# Fitting \n",
    "from sklearn.linear_model import LogisticRegression\n",
    "modelLR = LogisticRegression(solver='liblinear')\n",
    "modelLR.fit(xtr,ytr)\n",
    "modelLR.score(xts,yts)"
   ]
  },
  {
   "cell_type": "code",
   "execution_count": 29,
   "metadata": {},
   "outputs": [],
   "source": [
    "penalty = ['l1','l2','elasticnet','none']\n",
    "solver = ['newton-cg','lbfgs','liblinear','sag','saga']\n",
    "max_iter = [1,10,100,1000,10000]\n",
    "paramLR = {'penalty':penalty,'solver':solver,'max_iter':max_iter}"
   ]
  },
  {
   "cell_type": "code",
   "execution_count": 30,
   "metadata": {},
   "outputs": [],
   "source": [
    "modelCVLR =RandomizedSearchCV(modelLR,paramLR, cv=5)"
   ]
  },
  {
   "cell_type": "code",
   "execution_count": 31,
   "metadata": {},
   "outputs": [
    {
     "data": {
      "text/plain": [
       "{'solver': 'lbfgs', 'penalty': 'l2', 'max_iter': 10000}"
      ]
     },
     "execution_count": 31,
     "metadata": {},
     "output_type": "execute_result"
    }
   ],
   "source": [
    "# deciding the best parameters\n",
    "modelCVLR.fit(xtr,ytr)\n",
    "modelCVLR.best_params_"
   ]
  },
  {
   "cell_type": "code",
   "execution_count": 32,
   "metadata": {},
   "outputs": [
    {
     "name": "stdout",
     "output_type": "stream",
     "text": [
      "Model:  LogisticRegression(C=1.0, class_weight=None, dual=False, fit_intercept=True,\n",
      "                   intercept_scaling=1, l1_ratio=None, max_iter=10000,\n",
      "                   multi_class='auto', n_jobs=None, penalty='l2',\n",
      "                   random_state=None, solver='lbfgs', tol=0.0001, verbose=0,\n",
      "                   warm_start=False)\n",
      "\n",
      "True Positive:  187\n",
      "True Negative:  385\n",
      "False Positive:  71\n",
      "False Negative:  3\n",
      "\n",
      "Balanced Accuracy Score:  0.8585371213937505\n",
      "ROC AUC Score:  0.8585371213937505\n",
      "Classification Report: \n",
      "               precision    recall  f1-score   support\n",
      "\n",
      "           0       0.84      0.99      0.91       388\n",
      "           1       0.98      0.72      0.83       258\n",
      "\n",
      "    accuracy                           0.89       646\n",
      "   macro avg       0.91      0.86      0.87       646\n",
      "weighted avg       0.90      0.89      0.88       646\n",
      "\n",
      "\n",
      "\n"
     ]
    }
   ],
   "source": [
    "# model after hyperparameter tuning\n",
    "# modelLRNew = LogisticRegression(max_iter=10000,penalty='l1',solver='liblinear')\n",
    "modelLRNew = modelCVLR.best_estimator_\n",
    "modelLRNew.fit(xtr,ytr)\n",
    "modelLRNew.score(xts,yts)\n",
    "bestLRscore = findScore(modelLRNew,xts,yts)"
   ]
  },
  {
   "cell_type": "code",
   "execution_count": 33,
   "metadata": {},
   "outputs": [
    {
     "name": "stdout",
     "output_type": "stream",
     "text": [
      "DecisionTreeClassifier(ccp_alpha=0.0, class_weight=None, criterion='gini',\n",
      "                       max_depth=None, max_features=None, max_leaf_nodes=None,\n",
      "                       min_impurity_decrease=0.0, min_impurity_split=None,\n",
      "                       min_samples_leaf=1, min_samples_split=2,\n",
      "                       min_weight_fraction_leaf=0.0, presort='deprecated',\n",
      "                       random_state=None, splitter='best')\n"
     ]
    },
    {
     "data": {
      "text/plain": [
       "0.9798761609907121"
      ]
     },
     "execution_count": 33,
     "metadata": {},
     "output_type": "execute_result"
    }
   ],
   "source": [
    "# Using Decision Tree Classifier Model\n",
    "from sklearn import tree\n",
    "modelTree = tree.DecisionTreeClassifier()\n",
    "print(modelTree.fit(xtr,ytr))\n",
    "modelTree.score(xts,yts)"
   ]
  },
  {
   "cell_type": "code",
   "execution_count": 34,
   "metadata": {},
   "outputs": [],
   "source": [
    "# Creating Parameters\n",
    "splitter = ['best','random']\n",
    "criterion = ['gini','entropy']\n",
    "max_depth = [10,20,30,40,'none']\n",
    "param = {'splitter':splitter,'criterion':criterion,'max_depth':max_depth}"
   ]
  },
  {
   "cell_type": "code",
   "execution_count": 35,
   "metadata": {},
   "outputs": [],
   "source": [
    "modelCVTree =RandomizedSearchCV(modelTree,param, cv=5)"
   ]
  },
  {
   "cell_type": "code",
   "execution_count": 36,
   "metadata": {},
   "outputs": [
    {
     "data": {
      "text/plain": [
       "{'splitter': 'best', 'max_depth': 40, 'criterion': 'gini'}"
      ]
     },
     "execution_count": 36,
     "metadata": {},
     "output_type": "execute_result"
    }
   ],
   "source": [
    "# deciding the best parameters\n",
    "modelCVTree.fit(xtr,ytr)\n",
    "modelCVTree.best_params_"
   ]
  },
  {
   "cell_type": "code",
   "execution_count": 37,
   "metadata": {},
   "outputs": [
    {
     "name": "stdout",
     "output_type": "stream",
     "text": [
      "Model:  DecisionTreeClassifier(ccp_alpha=0.0, class_weight=None, criterion='gini',\n",
      "                       max_depth=40, max_features=None, max_leaf_nodes=None,\n",
      "                       min_impurity_decrease=0.0, min_impurity_split=None,\n",
      "                       min_samples_leaf=1, min_samples_split=2,\n",
      "                       min_weight_fraction_leaf=0.0, presort='deprecated',\n",
      "                       random_state=None, splitter='best')\n",
      "\n",
      "True Positive:  249\n",
      "True Negative:  384\n",
      "False Positive:  9\n",
      "False Negative:  4\n",
      "\n",
      "Balanced Accuracy Score:  0.977403500359626\n",
      "ROC AUC Score:  0.9774035003596261\n",
      "Classification Report: \n",
      "               precision    recall  f1-score   support\n",
      "\n",
      "           0       0.98      0.99      0.98       388\n",
      "           1       0.98      0.97      0.97       258\n",
      "\n",
      "    accuracy                           0.98       646\n",
      "   macro avg       0.98      0.98      0.98       646\n",
      "weighted avg       0.98      0.98      0.98       646\n",
      "\n",
      "\n",
      "\n"
     ]
    }
   ],
   "source": [
    "# Getting the best score for Decision Tree Model after using Hyperparameter Tuning\n",
    "# modelTreeNew = tree.DecisionTreeClassifier(criterion='entropy',max_depth=30,splitter='best')\n",
    "modelTreeNew= modelCVTree.best_estimator_\n",
    "modelTreeNew.fit(xtr,ytr)\n",
    "modelTreeNew.score(xts,yts)\n",
    "bestTreeScore = findScore(modelTreeNew,xts,yts)"
   ]
  },
  {
   "cell_type": "markdown",
   "metadata": {},
   "source": [
    "<hr>"
   ]
  },
  {
   "cell_type": "code",
   "execution_count": 38,
   "metadata": {},
   "outputs": [
    {
     "name": "stdout",
     "output_type": "stream",
     "text": [
      "RandomForestClassifier(bootstrap=True, ccp_alpha=0.0, class_weight=None,\n",
      "                       criterion='gini', max_depth=None, max_features='auto',\n",
      "                       max_leaf_nodes=None, max_samples=None,\n",
      "                       min_impurity_decrease=0.0, min_impurity_split=None,\n",
      "                       min_samples_leaf=1, min_samples_split=2,\n",
      "                       min_weight_fraction_leaf=0.0, n_estimators=100,\n",
      "                       n_jobs=None, oob_score=False, random_state=None,\n",
      "                       verbose=0, warm_start=False)\n"
     ]
    }
   ],
   "source": [
    "# Using Random Forest Classifier\n",
    "modelRF = RandomForestClassifier()\n",
    "print(modelRF.fit(xtr,ytr))"
   ]
  },
  {
   "cell_type": "code",
   "execution_count": 39,
   "metadata": {},
   "outputs": [],
   "source": [
    "# Using Hyperparameter Tuning\n",
    "\n",
    "# Creating Parameters\n",
    "n_estimators = list(range(10, 100, 5))\n",
    "criterion = ['gini']\n",
    "max_features = ['auto', 'sqrt']\n",
    "min_samples_split = [2, 5, 10]\n",
    "min_samples_leaf = [1, 2, 4]\n",
    "bootstrap = [True, False]\n",
    "\n",
    "param = {'n_estimators':n_estimators,'criterion':criterion,'max_features':max_features,'min_samples_split':min_samples_split,\n",
    "         'min_samples_leaf':min_samples_leaf,'bootstrap' : bootstrap}"
   ]
  },
  {
   "cell_type": "code",
   "execution_count": 40,
   "metadata": {},
   "outputs": [],
   "source": [
    "modelRFCV =RandomizedSearchCV(modelRF,param, cv=5)"
   ]
  },
  {
   "cell_type": "code",
   "execution_count": 41,
   "metadata": {},
   "outputs": [
    {
     "data": {
      "text/plain": [
       "{'n_estimators': 30,\n",
       " 'min_samples_split': 2,\n",
       " 'min_samples_leaf': 1,\n",
       " 'max_features': 'sqrt',\n",
       " 'criterion': 'gini',\n",
       " 'bootstrap': True}"
      ]
     },
     "execution_count": 41,
     "metadata": {},
     "output_type": "execute_result"
    }
   ],
   "source": [
    "# Getting best parameters\n",
    "modelRFCV.fit(xtr,ytr)\n",
    "modelRFCV.best_params_"
   ]
  },
  {
   "cell_type": "code",
   "execution_count": 42,
   "metadata": {},
   "outputs": [
    {
     "name": "stdout",
     "output_type": "stream",
     "text": [
      "Model:  RandomForestClassifier(bootstrap=True, ccp_alpha=0.0, class_weight=None,\n",
      "                       criterion='gini', max_depth=None, max_features='sqrt',\n",
      "                       max_leaf_nodes=None, max_samples=None,\n",
      "                       min_impurity_decrease=0.0, min_impurity_split=None,\n",
      "                       min_samples_leaf=1, min_samples_split=2,\n",
      "                       min_weight_fraction_leaf=0.0, n_estimators=30,\n",
      "                       n_jobs=None, oob_score=False, random_state=None,\n",
      "                       verbose=0, warm_start=False)\n",
      "\n",
      "True Positive:  248\n",
      "True Negative:  388\n",
      "False Positive:  10\n",
      "False Negative:  0\n",
      "\n",
      "Balanced Accuracy Score:  0.9806201550387597\n",
      "ROC AUC Score:  0.9806201550387597\n",
      "Classification Report: \n",
      "               precision    recall  f1-score   support\n",
      "\n",
      "           0       0.97      1.00      0.99       388\n",
      "           1       1.00      0.96      0.98       258\n",
      "\n",
      "    accuracy                           0.98       646\n",
      "   macro avg       0.99      0.98      0.98       646\n",
      "weighted avg       0.98      0.98      0.98       646\n",
      "\n",
      "\n",
      "\n"
     ]
    }
   ],
   "source": [
    "# Getting the best score for Decision Tree Model after using Hyperparameter Tuning\n",
    "# modelRFbest = RandomForestClassifier(n_estimators= 85,\n",
    "#  min_samples_split = 10,\n",
    "#  min_samples_leaf = 1,\n",
    "#  max_features = 'sqrt',\n",
    "#  criterion = 'gini',\n",
    "#  bootstrap = True)\n",
    "modelRFbest = modelRFCV.best_estimator_\n",
    "modelRFbest.fit(xtr,ytr)\n",
    "modelRFbest.score(xts,yts)\n",
    "bestRFScore = findScore(modelRFbest,xts,yts)"
   ]
  },
  {
   "cell_type": "markdown",
   "metadata": {},
   "source": [
    "#### Determining the diffrence before and after set the Hyperparameter tuning"
   ]
  },
  {
   "cell_type": "code",
   "execution_count": 43,
   "metadata": {},
   "outputs": [
    {
     "name": "stdout",
     "output_type": "stream",
     "text": [
      "Logistic regression with default parameter 88.54 %\n",
      "Logistic regression with hyperparameter tuning 88.54 %\n",
      "After tuning, accuracy improve by around 0.0 %\n"
     ]
    }
   ],
   "source": [
    "log_0= round(modelLR.score(xts,yts)*100,2)\n",
    "log_1 = round(modelLRNew.score(xts,yts)*100,2)\n",
    "\n",
    "print('Logistic regression with default parameter',log_0,'%')\n",
    "print('Logistic regression with hyperparameter tuning',log_1,'%')\n",
    "print('After tuning, accuracy improve by around',round(log_1-log_0,2),'%')"
   ]
  },
  {
   "cell_type": "code",
   "execution_count": 44,
   "metadata": {},
   "outputs": [
    {
     "name": "stdout",
     "output_type": "stream",
     "text": [
      "Decision tree with default parameter 97.99 %\n",
      "Decision tree with hyperparameter tuning 97.99 %\n",
      "After tuning, improve by around 0.0 %\n"
     ]
    }
   ],
   "source": [
    "tree_0 = round(modelTree.score(xts,yts)*100,2)\n",
    "tree_1 = round(modelTreeNew.score(xts,yts)*100,2)\n",
    "\n",
    "print('Decision tree with default parameter',tree_0,'%')\n",
    "print('Decision tree with hyperparameter tuning',tree_1,'%')\n",
    "print('After tuning, improve by around',round(tree_1-tree_0,2),'%')"
   ]
  },
  {
   "cell_type": "code",
   "execution_count": 45,
   "metadata": {},
   "outputs": [
    {
     "name": "stdout",
     "output_type": "stream",
     "text": [
      "Random forest with default parameter 98.45 %\n",
      "Random forest with hyperparameter tuning 98.45 %\n",
      "After tuning, improve by around 0.0 %\n"
     ]
    }
   ],
   "source": [
    "RF_0 = round(modelRF.score(xts,yts)*100,2)\n",
    "RF_1 = round(modelRFbest.score(xts,yts)*100,2)\n",
    "\n",
    "print('Random forest with default parameter',RF_0,'%')\n",
    "print('Random forest with hyperparameter tuning',RF_1,'%')\n",
    "print('After tuning, improve by around',round(RF_1-RF_0,2),'%')\n"
   ]
  },
  {
   "cell_type": "code",
   "execution_count": 46,
   "metadata": {},
   "outputs": [],
   "source": [
    "from sklearn.metrics import plot_confusion_matrix"
   ]
  },
  {
   "cell_type": "code",
   "execution_count": 47,
   "metadata": {},
   "outputs": [
    {
     "data": {
      "image/png": "[encoded data removed]",
      "text/plain": [
       "<Figure size 432x288 with 2 Axes>"
      ]
     },
     "metadata": {
      "needs_background": "light"
     },
     "output_type": "display_data"
    }
   ],
   "source": [
    "# Logistic regression after Hyperparameter tuning plot\n",
    "plot_confusion_matrix(modelLRNew,xts,yts,values_format='0.0f')\n",
    "plt.show()"
   ]
  },
  {
   "cell_type": "code",
   "execution_count": 48,
   "metadata": {},
   "outputs": [
    {
     "data": {
      "image/png": "[encoded data removed]",
      "text/plain": [
       "<Figure size 432x288 with 2 Axes>"
      ]
     },
     "metadata": {
      "needs_background": "light"
     },
     "output_type": "display_data"
    }
   ],
   "source": [
    "# Decision Tree after Hyperparameter tuning plot\n",
    "plot_confusion_matrix(modelTreeNew,xts,yts,values_format='0.0f')\n",
    "plt.show()"
   ]
  },
  {
   "cell_type": "code",
   "execution_count": 49,
   "metadata": {},
   "outputs": [
    {
     "data": {
      "image/png": "[encoded data removed]",
      "text/plain": [
       "<Figure size 432x288 with 2 Axes>"
      ]
     },
     "metadata": {
      "needs_background": "light"
     },
     "output_type": "display_data"
    }
   ],
   "source": [
    "# Random Forest after Hyperparameter tuning plot\n",
    "plot_confusion_matrix(modelRFbest,xts,yts,values_format='0.0f')\n",
    "plt.show()"
   ]
  },
  {
   "cell_type": "code",
   "execution_count": 50,
   "metadata": {},
   "outputs": [
    {
     "data": {
      "text/html": [
       "<div>\n",
       "<style scoped>\n",
       "    .dataframe tbody tr th:only-of-type {\n",
       "        vertical-align: middle;\n",
       "    }\n",
       "\n",
       "    .dataframe tbody tr th {\n",
       "        vertical-align: top;\n",
       "    }\n",
       "\n",
       "    .dataframe thead th {\n",
       "        text-align: right;\n",
       "    }\n",
       "</style>\n",
       "<table border=\"1\" class=\"dataframe\">\n",
       "  <thead>\n",
       "    <tr style=\"text-align: right;\">\n",
       "      <th></th>\n",
       "      <th>Percentage</th>\n",
       "    </tr>\n",
       "  </thead>\n",
       "  <tbody>\n",
       "    <tr>\n",
       "      <th>GTR</th>\n",
       "      <td>0.956693</td>\n",
       "    </tr>\n",
       "    <tr>\n",
       "      <th>OTA</th>\n",
       "      <td>0.023755</td>\n",
       "    </tr>\n",
       "    <tr>\n",
       "      <th>OCC</th>\n",
       "      <td>0.005421</td>\n",
       "    </tr>\n",
       "    <tr>\n",
       "      <th>No_Shows</th>\n",
       "      <td>0.004468</td>\n",
       "    </tr>\n",
       "    <tr>\n",
       "      <th>MG_Loss</th>\n",
       "      <td>0.002697</td>\n",
       "    </tr>\n",
       "    <tr>\n",
       "      <th>App</th>\n",
       "      <td>0.002313</td>\n",
       "    </tr>\n",
       "  </tbody>\n",
       "</table>\n",
       "</div>"
      ],
      "text/plain": [
       "          Percentage\n",
       "GTR         0.956693\n",
       "OTA         0.023755\n",
       "OCC         0.005421\n",
       "No_Shows    0.004468\n",
       "MG_Loss     0.002697\n",
       "App         0.002313"
      ]
     },
     "execution_count": 50,
     "metadata": {},
     "output_type": "execute_result"
    }
   ],
   "source": [
    "# Determine the feature importance\n",
    "feature_imp = pd.DataFrame(modelTreeNew.feature_importances_, columns = ['Percentage'], index = x.columns)\n",
    "feature_imp.sort_values(ascending=False, by='Percentage')[:6]"
   ]
  },
  {
   "cell_type": "code",
   "execution_count": 51,
   "metadata": {},
   "outputs": [
    {
     "name": "stdout",
     "output_type": "stream",
     "text": [
      "Model:  DecisionTreeClassifier(ccp_alpha=0.0, class_weight=None, criterion='gini',\n",
      "                       max_depth=40, max_features=None, max_leaf_nodes=None,\n",
      "                       min_impurity_decrease=0.0, min_impurity_split=None,\n",
      "                       min_samples_leaf=1, min_samples_split=2,\n",
      "                       min_weight_fraction_leaf=0.0, presort='deprecated',\n",
      "                       random_state=None, splitter='best')\n",
      "\n",
      "True Positive:  251\n",
      "True Negative:  384\n",
      "False Positive:  7\n",
      "False Negative:  4\n",
      "\n",
      "Balanced Accuracy Score:  0.981279469351874\n",
      "ROC AUC Score:  0.981279469351874\n",
      "Classification Report: \n",
      "               precision    recall  f1-score   support\n",
      "\n",
      "           0       0.98      0.99      0.99       388\n",
      "           1       0.98      0.97      0.98       258\n",
      "\n",
      "    accuracy                           0.98       646\n",
      "   macro avg       0.98      0.98      0.98       646\n",
      "weighted avg       0.98      0.98      0.98       646\n",
      "\n",
      "\n",
      "\n"
     ]
    }
   ],
   "source": [
    "# Splitting and modelling after using the only important features\n",
    "x1 =  xtr[['GTR','OTA','Cancellations','MM','No_Shows','App']]\n",
    "x2 = xts[['GTR','OTA','Cancellations','MM','No_Shows','App']]\n",
    "# x1 =  xtr.drop(columns='GMV')\n",
    "# x2 = xts.drop(columns='GMV')\n",
    "# y = dfoyo['target']\n",
    "# modelTreeNew\n",
    "modelTreeNew.fit(x1,ytr)\n",
    "modelTreeNew.score(x2,yts)\n",
    "bestTreeScore = findScore(modelTreeNew,x2,yts)"
   ]
  },
  {
   "cell_type": "code",
   "execution_count": 52,
   "metadata": {},
   "outputs": [],
   "source": [
    "# Plot the confusion Matrix"
   ]
  },
  {
   "cell_type": "code",
   "execution_count": 53,
   "metadata": {},
   "outputs": [
    {
     "data": {
      "image/png": "[encoded data removed]",
      "text/plain": [
       "<Figure size 432x288 with 2 Axes>"
      ]
     },
     "metadata": {
      "needs_background": "light"
     },
     "output_type": "display_data"
    }
   ],
   "source": [
    "plot_confusion_matrix(modelTreeNew,x2,yts,values_format='0.0f')\n",
    "plt.show()"
   ]
  },
  {
   "cell_type": "code",
   "execution_count": 54,
   "metadata": {},
   "outputs": [],
   "source": [
    "# joblib.dump(modelTreeNew, 'model_tree')\n"
   ]
  },
  {
   "cell_type": "markdown",
   "metadata": {},
   "source": [
    "<hr>"
   ]
  },
  {
   "cell_type": "markdown",
   "metadata": {},
   "source": [
    "#### Determine the best Gross Take Rate\n"
   ]
  },
  {
   "cell_type": "code",
   "execution_count": 55,
   "metadata": {},
   "outputs": [],
   "source": [
    "dfoyo[dfoyo['GTR'] < 0] = 0"
   ]
  },
  {
   "cell_type": "code",
   "execution_count": 56,
   "metadata": {},
   "outputs": [],
   "source": [
    "# dfoyo['GTR'].unique()"
   ]
  },
  {
   "cell_type": "code",
   "execution_count": 57,
   "metadata": {},
   "outputs": [],
   "source": [
    "# Using Random Forest Regressor\n",
    "x1 = dfoyo[['OCC','ARR','SRNs']]\n",
    "y1 = dfoyo['GTR']\n",
    "xtr1,xts1,ytr1,yts1 = train_test_split(x1,y1, test_size=0.8)"
   ]
  },
  {
   "cell_type": "code",
   "execution_count": 58,
   "metadata": {},
   "outputs": [
    {
     "data": {
      "text/plain": [
       "RandomForestRegressor(bootstrap=True, ccp_alpha=0.0, criterion='mse',\n",
       "                      max_depth=None, max_features='auto', max_leaf_nodes=None,\n",
       "                      max_samples=None, min_impurity_decrease=0.0,\n",
       "                      min_impurity_split=None, min_samples_leaf=1,\n",
       "                      min_samples_split=2, min_weight_fraction_leaf=0.0,\n",
       "                      n_estimators=10, n_jobs=None, oob_score=False,\n",
       "                      random_state=42, verbose=0, warm_start=False)"
      ]
     },
     "execution_count": 58,
     "metadata": {},
     "output_type": "execute_result"
    }
   ],
   "source": [
    "modelreg = RandomForestRegressor(n_estimators=10,random_state=42)\n",
    "modelreg.fit(x1,y1)"
   ]
  },
  {
   "cell_type": "code",
   "execution_count": 95,
   "metadata": {},
   "outputs": [],
   "source": [
    "dfoyo['rfrpredict'] = modelreg.predict(x1)"
   ]
  },
  {
   "cell_type": "markdown",
   "metadata": {},
   "source": [
    "### Hyperparameter Tuning"
   ]
  },
  {
   "cell_type": "code",
   "execution_count": 109,
   "metadata": {},
   "outputs": [],
   "source": [
    "# Number of trees in random forest\n",
    "n_estimators = [int(x) for x in np.linspace(start = 200, stop = 2000, num = 10)]\n",
    "# Number of features to consider at every split\n",
    "max_features = ['auto', 'sqrt']\n",
    "# Maximum number of levels in tree\n",
    "max_depth = [int(x) for x in np.linspace(10, 110, num = 11)]\n",
    "max_depth.append(None)\n",
    "# Minimum number of samples required to split a node\n",
    "min_samples_split = [2, 5, 10]\n",
    "# Minimum number of samples required at each leaf node\n",
    "min_samples_leaf = [1, 2, 4]\n",
    "# Method of selecting samples for training each tree\n",
    "bootstrap = [True, False]\n",
    "random_state = range(0,100)\n",
    "# Create the random grid\n",
    "random_grid = {'n_estimators': n_estimators,\n",
    "               'max_features': max_features,\n",
    "               'max_depth': max_depth,\n",
    "               'min_samples_split': min_samples_split,\n",
    "               'min_samples_leaf': min_samples_leaf,\n",
    "               'bootstrap': bootstrap,'random_state':random_state\n",
    "              }"
   ]
  },
  {
   "cell_type": "code",
   "execution_count": 110,
   "metadata": {},
   "outputs": [
    {
     "data": {
      "text/plain": [
       "{'random_state': 16,\n",
       " 'n_estimators': 600,\n",
       " 'min_samples_split': 5,\n",
       " 'min_samples_leaf': 2,\n",
       " 'max_features': 'sqrt',\n",
       " 'max_depth': None,\n",
       " 'bootstrap': True}"
      ]
     },
     "execution_count": 110,
     "metadata": {},
     "output_type": "execute_result"
    }
   ],
   "source": [
    "# Perform Randomized search CV\n",
    "rsc = RandomizedSearchCV(modelreg,random_grid,cv=5)\n",
    "random_result = rsc.fit(x1,y1)\n",
    "random_result.best_params_"
   ]
  },
  {
   "cell_type": "code",
   "execution_count": 111,
   "metadata": {},
   "outputs": [],
   "source": [
    "rfrbest =random_result.best_estimator_"
   ]
  },
  {
   "cell_type": "code",
   "execution_count": 112,
   "metadata": {},
   "outputs": [],
   "source": [
    "# Cross validation prediction\n",
    "prediksionCV = cross_val_predict(rfrbest,x1,y1,cv=5)\n",
    "dfoyo['prediksionCV'] = prediksionCV"
   ]
  },
  {
   "cell_type": "code",
   "execution_count": 113,
   "metadata": {},
   "outputs": [],
   "source": [
    "prediksion = rfrbest.predict(x1)\n",
    "dfoyo['prediksion'] =prediksion"
   ]
  },
  {
   "cell_type": "code",
   "execution_count": 59,
   "metadata": {},
   "outputs": [],
   "source": [
    "# Perform Grid-Search\n",
    "gsc = GridSearchCV(estimator=RandomForestRegressor(),\n",
    "        param_grid={\n",
    "            'max_depth': range(3,7),\n",
    "            'n_estimators': (10, 50, 100, 1000),\n",
    "        },\n",
    "        cv=5, scoring='neg_mean_squared_error', verbose=0,n_jobs=-1)\n",
    "  "
   ]
  },
  {
   "cell_type": "code",
   "execution_count": 66,
   "metadata": {},
   "outputs": [],
   "source": [
    "grid_result = gsc.fit(x1,y1)\n",
    "best_params = grid_result.best_params_"
   ]
  },
  {
   "cell_type": "code",
   "execution_count": 69,
   "metadata": {},
   "outputs": [],
   "source": [
    "rfr = RandomForestRegressor(max_depth=3, n_estimators=1000,random_state=True, verbose=False)\n",
    "# Perform K-Fold CV\n",
    "scores = cross_val_score(rfr, x1, y1, cv=10, scoring='neg_mean_absolute_error')"
   ]
  },
  {
   "cell_type": "code",
   "execution_count": 114,
   "metadata": {},
   "outputs": [
    {
     "data": {
      "text/html": [
       "<div>\n",
       "<style scoped>\n",
       "    .dataframe tbody tr th:only-of-type {\n",
       "        vertical-align: middle;\n",
       "    }\n",
       "\n",
       "    .dataframe tbody tr th {\n",
       "        vertical-align: top;\n",
       "    }\n",
       "\n",
       "    .dataframe thead th {\n",
       "        text-align: right;\n",
       "    }\n",
       "</style>\n",
       "<table border=\"1\" class=\"dataframe\">\n",
       "  <thead>\n",
       "    <tr style=\"text-align: right;\">\n",
       "      <th></th>\n",
       "      <th>SRNs</th>\n",
       "      <th>GMV</th>\n",
       "      <th>OCC</th>\n",
       "      <th>OTA</th>\n",
       "      <th>App</th>\n",
       "      <th>MM</th>\n",
       "      <th>Walk_In</th>\n",
       "      <th>Web</th>\n",
       "      <th>Direct</th>\n",
       "      <th>Rest</th>\n",
       "      <th>ARR</th>\n",
       "      <th>Revpar</th>\n",
       "      <th>Cancellations</th>\n",
       "      <th>No_Shows</th>\n",
       "      <th>GTR</th>\n",
       "      <th>NTR</th>\n",
       "      <th>MG_Loss</th>\n",
       "      <th>area</th>\n",
       "      <th>target</th>\n",
       "      <th>prediksi</th>\n",
       "      <th>predik</th>\n",
       "      <th>prediksion</th>\n",
       "      <th>prediksionCV</th>\n",
       "      <th>rfrpredict</th>\n",
       "    </tr>\n",
       "  </thead>\n",
       "  <tbody>\n",
       "    <tr>\n",
       "      <th>0</th>\n",
       "      <td>1643</td>\n",
       "      <td>2.279401e+07</td>\n",
       "      <td>9.19</td>\n",
       "      <td>5.72</td>\n",
       "      <td>3.47</td>\n",
       "      <td>0.0</td>\n",
       "      <td>0.00</td>\n",
       "      <td>0.00</td>\n",
       "      <td>0.0</td>\n",
       "      <td>0.00</td>\n",
       "      <td>150962</td>\n",
       "      <td>13874</td>\n",
       "      <td>34.94</td>\n",
       "      <td>8.92</td>\n",
       "      <td>24.96</td>\n",
       "      <td>13.05</td>\n",
       "      <td>0.0</td>\n",
       "      <td>1</td>\n",
       "      <td>0</td>\n",
       "      <td>38.188270</td>\n",
       "      <td>38.359323</td>\n",
       "      <td>39.301224</td>\n",
       "      <td>53.028155</td>\n",
       "      <td>32.386000</td>\n",
       "    </tr>\n",
       "    <tr>\n",
       "      <th>1</th>\n",
       "      <td>775</td>\n",
       "      <td>5.915414e+07</td>\n",
       "      <td>44.77</td>\n",
       "      <td>17.55</td>\n",
       "      <td>11.10</td>\n",
       "      <td>0.0</td>\n",
       "      <td>15.87</td>\n",
       "      <td>0.26</td>\n",
       "      <td>0.0</td>\n",
       "      <td>0.00</td>\n",
       "      <td>170489</td>\n",
       "      <td>76335</td>\n",
       "      <td>24.78</td>\n",
       "      <td>0.43</td>\n",
       "      <td>18.84</td>\n",
       "      <td>10.71</td>\n",
       "      <td>0.0</td>\n",
       "      <td>1</td>\n",
       "      <td>0</td>\n",
       "      <td>30.428175</td>\n",
       "      <td>30.895877</td>\n",
       "      <td>23.813964</td>\n",
       "      <td>28.921887</td>\n",
       "      <td>21.783000</td>\n",
       "    </tr>\n",
       "    <tr>\n",
       "      <th>2</th>\n",
       "      <td>620</td>\n",
       "      <td>3.780094e+07</td>\n",
       "      <td>26.94</td>\n",
       "      <td>13.39</td>\n",
       "      <td>12.42</td>\n",
       "      <td>0.0</td>\n",
       "      <td>0.97</td>\n",
       "      <td>0.16</td>\n",
       "      <td>0.0</td>\n",
       "      <td>0.00</td>\n",
       "      <td>226315</td>\n",
       "      <td>60959</td>\n",
       "      <td>22.33</td>\n",
       "      <td>0.00</td>\n",
       "      <td>26.36</td>\n",
       "      <td>15.86</td>\n",
       "      <td>0.0</td>\n",
       "      <td>1</td>\n",
       "      <td>0</td>\n",
       "      <td>30.697930</td>\n",
       "      <td>31.091101</td>\n",
       "      <td>28.248706</td>\n",
       "      <td>29.536715</td>\n",
       "      <td>24.190000</td>\n",
       "    </tr>\n",
       "    <tr>\n",
       "      <th>3</th>\n",
       "      <td>78</td>\n",
       "      <td>9.646701e+05</td>\n",
       "      <td>2.56</td>\n",
       "      <td>2.56</td>\n",
       "      <td>0.00</td>\n",
       "      <td>0.0</td>\n",
       "      <td>0.00</td>\n",
       "      <td>0.00</td>\n",
       "      <td>0.0</td>\n",
       "      <td>0.00</td>\n",
       "      <td>483108</td>\n",
       "      <td>12387</td>\n",
       "      <td>60.00</td>\n",
       "      <td>0.00</td>\n",
       "      <td>14.77</td>\n",
       "      <td>14.77</td>\n",
       "      <td>0.0</td>\n",
       "      <td>1</td>\n",
       "      <td>0</td>\n",
       "      <td>47.433027</td>\n",
       "      <td>45.259293</td>\n",
       "      <td>35.733011</td>\n",
       "      <td>46.284007</td>\n",
       "      <td>23.985000</td>\n",
       "    </tr>\n",
       "    <tr>\n",
       "      <th>4</th>\n",
       "      <td>465</td>\n",
       "      <td>1.814553e+07</td>\n",
       "      <td>13.98</td>\n",
       "      <td>13.55</td>\n",
       "      <td>0.43</td>\n",
       "      <td>0.0</td>\n",
       "      <td>0.00</td>\n",
       "      <td>0.00</td>\n",
       "      <td>0.0</td>\n",
       "      <td>0.00</td>\n",
       "      <td>279132</td>\n",
       "      <td>39018</td>\n",
       "      <td>39.29</td>\n",
       "      <td>2.68</td>\n",
       "      <td>23.27</td>\n",
       "      <td>5.01</td>\n",
       "      <td>0.0</td>\n",
       "      <td>1</td>\n",
       "      <td>0</td>\n",
       "      <td>35.424570</td>\n",
       "      <td>35.847574</td>\n",
       "      <td>28.207298</td>\n",
       "      <td>29.726674</td>\n",
       "      <td>26.617000</td>\n",
       "    </tr>\n",
       "    <tr>\n",
       "      <th>...</th>\n",
       "      <td>...</td>\n",
       "      <td>...</td>\n",
       "      <td>...</td>\n",
       "      <td>...</td>\n",
       "      <td>...</td>\n",
       "      <td>...</td>\n",
       "      <td>...</td>\n",
       "      <td>...</td>\n",
       "      <td>...</td>\n",
       "      <td>...</td>\n",
       "      <td>...</td>\n",
       "      <td>...</td>\n",
       "      <td>...</td>\n",
       "      <td>...</td>\n",
       "      <td>...</td>\n",
       "      <td>...</td>\n",
       "      <td>...</td>\n",
       "      <td>...</td>\n",
       "      <td>...</td>\n",
       "      <td>...</td>\n",
       "      <td>...</td>\n",
       "      <td>...</td>\n",
       "      <td>...</td>\n",
       "      <td>...</td>\n",
       "    </tr>\n",
       "    <tr>\n",
       "      <th>3224</th>\n",
       "      <td>220</td>\n",
       "      <td>0.000000e+00</td>\n",
       "      <td>0.00</td>\n",
       "      <td>0.00</td>\n",
       "      <td>0.00</td>\n",
       "      <td>0.0</td>\n",
       "      <td>0.00</td>\n",
       "      <td>0.00</td>\n",
       "      <td>0.0</td>\n",
       "      <td>0.00</td>\n",
       "      <td>0</td>\n",
       "      <td>0</td>\n",
       "      <td>0.00</td>\n",
       "      <td>0.00</td>\n",
       "      <td>0.00</td>\n",
       "      <td>0.00</td>\n",
       "      <td>0.0</td>\n",
       "      <td>3</td>\n",
       "      <td>1</td>\n",
       "      <td>0.306979</td>\n",
       "      <td>0.268126</td>\n",
       "      <td>0.045966</td>\n",
       "      <td>0.253070</td>\n",
       "      <td>0.000000</td>\n",
       "    </tr>\n",
       "    <tr>\n",
       "      <th>3225</th>\n",
       "      <td>0</td>\n",
       "      <td>0.000000e+00</td>\n",
       "      <td>0.00</td>\n",
       "      <td>0.00</td>\n",
       "      <td>0.00</td>\n",
       "      <td>0.0</td>\n",
       "      <td>0.00</td>\n",
       "      <td>0.00</td>\n",
       "      <td>0.0</td>\n",
       "      <td>0.00</td>\n",
       "      <td>0</td>\n",
       "      <td>0</td>\n",
       "      <td>0.00</td>\n",
       "      <td>0.00</td>\n",
       "      <td>0.00</td>\n",
       "      <td>0.00</td>\n",
       "      <td>0.0</td>\n",
       "      <td>3</td>\n",
       "      <td>1</td>\n",
       "      <td>0.039582</td>\n",
       "      <td>0.036129</td>\n",
       "      <td>0.043369</td>\n",
       "      <td>0.053370</td>\n",
       "      <td>0.047001</td>\n",
       "    </tr>\n",
       "    <tr>\n",
       "      <th>3226</th>\n",
       "      <td>240</td>\n",
       "      <td>5.359992e+06</td>\n",
       "      <td>55.00</td>\n",
       "      <td>0.00</td>\n",
       "      <td>0.00</td>\n",
       "      <td>0.0</td>\n",
       "      <td>0.00</td>\n",
       "      <td>0.42</td>\n",
       "      <td>0.0</td>\n",
       "      <td>54.58</td>\n",
       "      <td>40606</td>\n",
       "      <td>22333</td>\n",
       "      <td>0.75</td>\n",
       "      <td>0.00</td>\n",
       "      <td>0.00</td>\n",
       "      <td>0.00</td>\n",
       "      <td>0.0</td>\n",
       "      <td>3</td>\n",
       "      <td>1</td>\n",
       "      <td>32.014238</td>\n",
       "      <td>28.142433</td>\n",
       "      <td>19.524711</td>\n",
       "      <td>32.646290</td>\n",
       "      <td>15.855000</td>\n",
       "    </tr>\n",
       "    <tr>\n",
       "      <th>3227</th>\n",
       "      <td>0</td>\n",
       "      <td>0.000000e+00</td>\n",
       "      <td>0.00</td>\n",
       "      <td>0.00</td>\n",
       "      <td>0.00</td>\n",
       "      <td>0.0</td>\n",
       "      <td>0.00</td>\n",
       "      <td>0.00</td>\n",
       "      <td>0.0</td>\n",
       "      <td>0.00</td>\n",
       "      <td>0</td>\n",
       "      <td>0</td>\n",
       "      <td>0.00</td>\n",
       "      <td>0.00</td>\n",
       "      <td>0.00</td>\n",
       "      <td>0.00</td>\n",
       "      <td>0.0</td>\n",
       "      <td>3</td>\n",
       "      <td>1</td>\n",
       "      <td>0.039582</td>\n",
       "      <td>0.036129</td>\n",
       "      <td>0.043369</td>\n",
       "      <td>0.053370</td>\n",
       "      <td>0.047001</td>\n",
       "    </tr>\n",
       "    <tr>\n",
       "      <th>3228</th>\n",
       "      <td>0</td>\n",
       "      <td>0.000000e+00</td>\n",
       "      <td>0.00</td>\n",
       "      <td>0.00</td>\n",
       "      <td>0.00</td>\n",
       "      <td>0.0</td>\n",
       "      <td>0.00</td>\n",
       "      <td>0.00</td>\n",
       "      <td>0.0</td>\n",
       "      <td>0.00</td>\n",
       "      <td>0</td>\n",
       "      <td>0</td>\n",
       "      <td>0.00</td>\n",
       "      <td>0.00</td>\n",
       "      <td>0.00</td>\n",
       "      <td>0.00</td>\n",
       "      <td>0.0</td>\n",
       "      <td>1</td>\n",
       "      <td>1</td>\n",
       "      <td>0.039582</td>\n",
       "      <td>0.036129</td>\n",
       "      <td>0.043369</td>\n",
       "      <td>0.053370</td>\n",
       "      <td>0.047001</td>\n",
       "    </tr>\n",
       "  </tbody>\n",
       "</table>\n",
       "<p>3228 rows × 24 columns</p>\n",
       "</div>"
      ],
      "text/plain": [
       "      SRNs           GMV    OCC    OTA    App   MM  Walk_In   Web  Direct  \\\n",
       "0     1643  2.279401e+07   9.19   5.72   3.47  0.0     0.00  0.00     0.0   \n",
       "1      775  5.915414e+07  44.77  17.55  11.10  0.0    15.87  0.26     0.0   \n",
       "2      620  3.780094e+07  26.94  13.39  12.42  0.0     0.97  0.16     0.0   \n",
       "3       78  9.646701e+05   2.56   2.56   0.00  0.0     0.00  0.00     0.0   \n",
       "4      465  1.814553e+07  13.98  13.55   0.43  0.0     0.00  0.00     0.0   \n",
       "...    ...           ...    ...    ...    ...  ...      ...   ...     ...   \n",
       "3224   220  0.000000e+00   0.00   0.00   0.00  0.0     0.00  0.00     0.0   \n",
       "3225     0  0.000000e+00   0.00   0.00   0.00  0.0     0.00  0.00     0.0   \n",
       "3226   240  5.359992e+06  55.00   0.00   0.00  0.0     0.00  0.42     0.0   \n",
       "3227     0  0.000000e+00   0.00   0.00   0.00  0.0     0.00  0.00     0.0   \n",
       "3228     0  0.000000e+00   0.00   0.00   0.00  0.0     0.00  0.00     0.0   \n",
       "\n",
       "       Rest     ARR  Revpar  Cancellations  No_Shows    GTR    NTR  MG_Loss  \\\n",
       "0      0.00  150962   13874          34.94      8.92  24.96  13.05      0.0   \n",
       "1      0.00  170489   76335          24.78      0.43  18.84  10.71      0.0   \n",
       "2      0.00  226315   60959          22.33      0.00  26.36  15.86      0.0   \n",
       "3      0.00  483108   12387          60.00      0.00  14.77  14.77      0.0   \n",
       "4      0.00  279132   39018          39.29      2.68  23.27   5.01      0.0   \n",
       "...     ...     ...     ...            ...       ...    ...    ...      ...   \n",
       "3224   0.00       0       0           0.00      0.00   0.00   0.00      0.0   \n",
       "3225   0.00       0       0           0.00      0.00   0.00   0.00      0.0   \n",
       "3226  54.58   40606   22333           0.75      0.00   0.00   0.00      0.0   \n",
       "3227   0.00       0       0           0.00      0.00   0.00   0.00      0.0   \n",
       "3228   0.00       0       0           0.00      0.00   0.00   0.00      0.0   \n",
       "\n",
       "      area  target   prediksi     predik  prediksion  prediksionCV  rfrpredict  \n",
       "0        1       0  38.188270  38.359323   39.301224     53.028155   32.386000  \n",
       "1        1       0  30.428175  30.895877   23.813964     28.921887   21.783000  \n",
       "2        1       0  30.697930  31.091101   28.248706     29.536715   24.190000  \n",
       "3        1       0  47.433027  45.259293   35.733011     46.284007   23.985000  \n",
       "4        1       0  35.424570  35.847574   28.207298     29.726674   26.617000  \n",
       "...    ...     ...        ...        ...         ...           ...         ...  \n",
       "3224     3       1   0.306979   0.268126    0.045966      0.253070    0.000000  \n",
       "3225     3       1   0.039582   0.036129    0.043369      0.053370    0.047001  \n",
       "3226     3       1  32.014238  28.142433   19.524711     32.646290   15.855000  \n",
       "3227     3       1   0.039582   0.036129    0.043369      0.053370    0.047001  \n",
       "3228     1       1   0.039582   0.036129    0.043369      0.053370    0.047001  \n",
       "\n",
       "[3228 rows x 24 columns]"
      ]
     },
     "execution_count": 114,
     "metadata": {},
     "output_type": "execute_result"
    }
   ],
   "source": [
    "prediksi = cross_val_predict(rfr,x1,y1,cv=10)\n",
    "prediksi\n",
    "dfoyo['prediksi'] = prediksi\n",
    "dfoyo"
   ]
  },
  {
   "cell_type": "code",
   "execution_count": 115,
   "metadata": {},
   "outputs": [
    {
     "data": {
      "text/html": [
       "<div>\n",
       "<style scoped>\n",
       "    .dataframe tbody tr th:only-of-type {\n",
       "        vertical-align: middle;\n",
       "    }\n",
       "\n",
       "    .dataframe tbody tr th {\n",
       "        vertical-align: top;\n",
       "    }\n",
       "\n",
       "    .dataframe thead th {\n",
       "        text-align: right;\n",
       "    }\n",
       "</style>\n",
       "<table border=\"1\" class=\"dataframe\">\n",
       "  <thead>\n",
       "    <tr style=\"text-align: right;\">\n",
       "      <th></th>\n",
       "      <th>SRNs</th>\n",
       "      <th>GMV</th>\n",
       "      <th>OCC</th>\n",
       "      <th>OTA</th>\n",
       "      <th>App</th>\n",
       "      <th>MM</th>\n",
       "      <th>Walk_In</th>\n",
       "      <th>Web</th>\n",
       "      <th>Direct</th>\n",
       "      <th>Rest</th>\n",
       "      <th>ARR</th>\n",
       "      <th>Revpar</th>\n",
       "      <th>Cancellations</th>\n",
       "      <th>No_Shows</th>\n",
       "      <th>GTR</th>\n",
       "      <th>NTR</th>\n",
       "      <th>MG_Loss</th>\n",
       "      <th>area</th>\n",
       "      <th>target</th>\n",
       "      <th>prediksi</th>\n",
       "      <th>predik</th>\n",
       "      <th>prediksion</th>\n",
       "      <th>prediksionCV</th>\n",
       "      <th>rfrpredict</th>\n",
       "    </tr>\n",
       "  </thead>\n",
       "  <tbody>\n",
       "    <tr>\n",
       "      <th>0</th>\n",
       "      <td>1643</td>\n",
       "      <td>2.279401e+07</td>\n",
       "      <td>9.19</td>\n",
       "      <td>5.72</td>\n",
       "      <td>3.47</td>\n",
       "      <td>0.0</td>\n",
       "      <td>0.00</td>\n",
       "      <td>0.00</td>\n",
       "      <td>0.0</td>\n",
       "      <td>0.00</td>\n",
       "      <td>150962</td>\n",
       "      <td>13874</td>\n",
       "      <td>34.94</td>\n",
       "      <td>8.92</td>\n",
       "      <td>24.96</td>\n",
       "      <td>13.05</td>\n",
       "      <td>0.0</td>\n",
       "      <td>1</td>\n",
       "      <td>0</td>\n",
       "      <td>38.188270</td>\n",
       "      <td>38.359323</td>\n",
       "      <td>39.301224</td>\n",
       "      <td>53.028155</td>\n",
       "      <td>32.386000</td>\n",
       "    </tr>\n",
       "    <tr>\n",
       "      <th>1</th>\n",
       "      <td>775</td>\n",
       "      <td>5.915414e+07</td>\n",
       "      <td>44.77</td>\n",
       "      <td>17.55</td>\n",
       "      <td>11.10</td>\n",
       "      <td>0.0</td>\n",
       "      <td>15.87</td>\n",
       "      <td>0.26</td>\n",
       "      <td>0.0</td>\n",
       "      <td>0.00</td>\n",
       "      <td>170489</td>\n",
       "      <td>76335</td>\n",
       "      <td>24.78</td>\n",
       "      <td>0.43</td>\n",
       "      <td>18.84</td>\n",
       "      <td>10.71</td>\n",
       "      <td>0.0</td>\n",
       "      <td>1</td>\n",
       "      <td>0</td>\n",
       "      <td>30.428175</td>\n",
       "      <td>30.895877</td>\n",
       "      <td>23.813964</td>\n",
       "      <td>28.921887</td>\n",
       "      <td>21.783000</td>\n",
       "    </tr>\n",
       "    <tr>\n",
       "      <th>2</th>\n",
       "      <td>620</td>\n",
       "      <td>3.780094e+07</td>\n",
       "      <td>26.94</td>\n",
       "      <td>13.39</td>\n",
       "      <td>12.42</td>\n",
       "      <td>0.0</td>\n",
       "      <td>0.97</td>\n",
       "      <td>0.16</td>\n",
       "      <td>0.0</td>\n",
       "      <td>0.00</td>\n",
       "      <td>226315</td>\n",
       "      <td>60959</td>\n",
       "      <td>22.33</td>\n",
       "      <td>0.00</td>\n",
       "      <td>26.36</td>\n",
       "      <td>15.86</td>\n",
       "      <td>0.0</td>\n",
       "      <td>1</td>\n",
       "      <td>0</td>\n",
       "      <td>30.697930</td>\n",
       "      <td>31.091101</td>\n",
       "      <td>28.248706</td>\n",
       "      <td>29.536715</td>\n",
       "      <td>24.190000</td>\n",
       "    </tr>\n",
       "    <tr>\n",
       "      <th>3</th>\n",
       "      <td>78</td>\n",
       "      <td>9.646701e+05</td>\n",
       "      <td>2.56</td>\n",
       "      <td>2.56</td>\n",
       "      <td>0.00</td>\n",
       "      <td>0.0</td>\n",
       "      <td>0.00</td>\n",
       "      <td>0.00</td>\n",
       "      <td>0.0</td>\n",
       "      <td>0.00</td>\n",
       "      <td>483108</td>\n",
       "      <td>12387</td>\n",
       "      <td>60.00</td>\n",
       "      <td>0.00</td>\n",
       "      <td>14.77</td>\n",
       "      <td>14.77</td>\n",
       "      <td>0.0</td>\n",
       "      <td>1</td>\n",
       "      <td>0</td>\n",
       "      <td>47.433027</td>\n",
       "      <td>45.259293</td>\n",
       "      <td>35.733011</td>\n",
       "      <td>46.284007</td>\n",
       "      <td>23.985000</td>\n",
       "    </tr>\n",
       "    <tr>\n",
       "      <th>4</th>\n",
       "      <td>465</td>\n",
       "      <td>1.814553e+07</td>\n",
       "      <td>13.98</td>\n",
       "      <td>13.55</td>\n",
       "      <td>0.43</td>\n",
       "      <td>0.0</td>\n",
       "      <td>0.00</td>\n",
       "      <td>0.00</td>\n",
       "      <td>0.0</td>\n",
       "      <td>0.00</td>\n",
       "      <td>279132</td>\n",
       "      <td>39018</td>\n",
       "      <td>39.29</td>\n",
       "      <td>2.68</td>\n",
       "      <td>23.27</td>\n",
       "      <td>5.01</td>\n",
       "      <td>0.0</td>\n",
       "      <td>1</td>\n",
       "      <td>0</td>\n",
       "      <td>35.424570</td>\n",
       "      <td>35.847574</td>\n",
       "      <td>28.207298</td>\n",
       "      <td>29.726674</td>\n",
       "      <td>26.617000</td>\n",
       "    </tr>\n",
       "    <tr>\n",
       "      <th>...</th>\n",
       "      <td>...</td>\n",
       "      <td>...</td>\n",
       "      <td>...</td>\n",
       "      <td>...</td>\n",
       "      <td>...</td>\n",
       "      <td>...</td>\n",
       "      <td>...</td>\n",
       "      <td>...</td>\n",
       "      <td>...</td>\n",
       "      <td>...</td>\n",
       "      <td>...</td>\n",
       "      <td>...</td>\n",
       "      <td>...</td>\n",
       "      <td>...</td>\n",
       "      <td>...</td>\n",
       "      <td>...</td>\n",
       "      <td>...</td>\n",
       "      <td>...</td>\n",
       "      <td>...</td>\n",
       "      <td>...</td>\n",
       "      <td>...</td>\n",
       "      <td>...</td>\n",
       "      <td>...</td>\n",
       "      <td>...</td>\n",
       "    </tr>\n",
       "    <tr>\n",
       "      <th>3224</th>\n",
       "      <td>220</td>\n",
       "      <td>0.000000e+00</td>\n",
       "      <td>0.00</td>\n",
       "      <td>0.00</td>\n",
       "      <td>0.00</td>\n",
       "      <td>0.0</td>\n",
       "      <td>0.00</td>\n",
       "      <td>0.00</td>\n",
       "      <td>0.0</td>\n",
       "      <td>0.00</td>\n",
       "      <td>0</td>\n",
       "      <td>0</td>\n",
       "      <td>0.00</td>\n",
       "      <td>0.00</td>\n",
       "      <td>0.00</td>\n",
       "      <td>0.00</td>\n",
       "      <td>0.0</td>\n",
       "      <td>3</td>\n",
       "      <td>1</td>\n",
       "      <td>0.306979</td>\n",
       "      <td>0.268126</td>\n",
       "      <td>0.045966</td>\n",
       "      <td>0.253070</td>\n",
       "      <td>0.000000</td>\n",
       "    </tr>\n",
       "    <tr>\n",
       "      <th>3225</th>\n",
       "      <td>0</td>\n",
       "      <td>0.000000e+00</td>\n",
       "      <td>0.00</td>\n",
       "      <td>0.00</td>\n",
       "      <td>0.00</td>\n",
       "      <td>0.0</td>\n",
       "      <td>0.00</td>\n",
       "      <td>0.00</td>\n",
       "      <td>0.0</td>\n",
       "      <td>0.00</td>\n",
       "      <td>0</td>\n",
       "      <td>0</td>\n",
       "      <td>0.00</td>\n",
       "      <td>0.00</td>\n",
       "      <td>0.00</td>\n",
       "      <td>0.00</td>\n",
       "      <td>0.0</td>\n",
       "      <td>3</td>\n",
       "      <td>1</td>\n",
       "      <td>0.039582</td>\n",
       "      <td>0.036129</td>\n",
       "      <td>0.043369</td>\n",
       "      <td>0.053370</td>\n",
       "      <td>0.047001</td>\n",
       "    </tr>\n",
       "    <tr>\n",
       "      <th>3226</th>\n",
       "      <td>240</td>\n",
       "      <td>5.359992e+06</td>\n",
       "      <td>55.00</td>\n",
       "      <td>0.00</td>\n",
       "      <td>0.00</td>\n",
       "      <td>0.0</td>\n",
       "      <td>0.00</td>\n",
       "      <td>0.42</td>\n",
       "      <td>0.0</td>\n",
       "      <td>54.58</td>\n",
       "      <td>40606</td>\n",
       "      <td>22333</td>\n",
       "      <td>0.75</td>\n",
       "      <td>0.00</td>\n",
       "      <td>0.00</td>\n",
       "      <td>0.00</td>\n",
       "      <td>0.0</td>\n",
       "      <td>3</td>\n",
       "      <td>1</td>\n",
       "      <td>32.014238</td>\n",
       "      <td>28.142433</td>\n",
       "      <td>19.524711</td>\n",
       "      <td>32.646290</td>\n",
       "      <td>15.855000</td>\n",
       "    </tr>\n",
       "    <tr>\n",
       "      <th>3227</th>\n",
       "      <td>0</td>\n",
       "      <td>0.000000e+00</td>\n",
       "      <td>0.00</td>\n",
       "      <td>0.00</td>\n",
       "      <td>0.00</td>\n",
       "      <td>0.0</td>\n",
       "      <td>0.00</td>\n",
       "      <td>0.00</td>\n",
       "      <td>0.0</td>\n",
       "      <td>0.00</td>\n",
       "      <td>0</td>\n",
       "      <td>0</td>\n",
       "      <td>0.00</td>\n",
       "      <td>0.00</td>\n",
       "      <td>0.00</td>\n",
       "      <td>0.00</td>\n",
       "      <td>0.0</td>\n",
       "      <td>3</td>\n",
       "      <td>1</td>\n",
       "      <td>0.039582</td>\n",
       "      <td>0.036129</td>\n",
       "      <td>0.043369</td>\n",
       "      <td>0.053370</td>\n",
       "      <td>0.047001</td>\n",
       "    </tr>\n",
       "    <tr>\n",
       "      <th>3228</th>\n",
       "      <td>0</td>\n",
       "      <td>0.000000e+00</td>\n",
       "      <td>0.00</td>\n",
       "      <td>0.00</td>\n",
       "      <td>0.00</td>\n",
       "      <td>0.0</td>\n",
       "      <td>0.00</td>\n",
       "      <td>0.00</td>\n",
       "      <td>0.0</td>\n",
       "      <td>0.00</td>\n",
       "      <td>0</td>\n",
       "      <td>0</td>\n",
       "      <td>0.00</td>\n",
       "      <td>0.00</td>\n",
       "      <td>0.00</td>\n",
       "      <td>0.00</td>\n",
       "      <td>0.0</td>\n",
       "      <td>1</td>\n",
       "      <td>1</td>\n",
       "      <td>0.039582</td>\n",
       "      <td>0.036129</td>\n",
       "      <td>0.043369</td>\n",
       "      <td>0.053370</td>\n",
       "      <td>0.047001</td>\n",
       "    </tr>\n",
       "  </tbody>\n",
       "</table>\n",
       "<p>3228 rows × 24 columns</p>\n",
       "</div>"
      ],
      "text/plain": [
       "      SRNs           GMV    OCC    OTA    App   MM  Walk_In   Web  Direct  \\\n",
       "0     1643  2.279401e+07   9.19   5.72   3.47  0.0     0.00  0.00     0.0   \n",
       "1      775  5.915414e+07  44.77  17.55  11.10  0.0    15.87  0.26     0.0   \n",
       "2      620  3.780094e+07  26.94  13.39  12.42  0.0     0.97  0.16     0.0   \n",
       "3       78  9.646701e+05   2.56   2.56   0.00  0.0     0.00  0.00     0.0   \n",
       "4      465  1.814553e+07  13.98  13.55   0.43  0.0     0.00  0.00     0.0   \n",
       "...    ...           ...    ...    ...    ...  ...      ...   ...     ...   \n",
       "3224   220  0.000000e+00   0.00   0.00   0.00  0.0     0.00  0.00     0.0   \n",
       "3225     0  0.000000e+00   0.00   0.00   0.00  0.0     0.00  0.00     0.0   \n",
       "3226   240  5.359992e+06  55.00   0.00   0.00  0.0     0.00  0.42     0.0   \n",
       "3227     0  0.000000e+00   0.00   0.00   0.00  0.0     0.00  0.00     0.0   \n",
       "3228     0  0.000000e+00   0.00   0.00   0.00  0.0     0.00  0.00     0.0   \n",
       "\n",
       "       Rest     ARR  Revpar  Cancellations  No_Shows    GTR    NTR  MG_Loss  \\\n",
       "0      0.00  150962   13874          34.94      8.92  24.96  13.05      0.0   \n",
       "1      0.00  170489   76335          24.78      0.43  18.84  10.71      0.0   \n",
       "2      0.00  226315   60959          22.33      0.00  26.36  15.86      0.0   \n",
       "3      0.00  483108   12387          60.00      0.00  14.77  14.77      0.0   \n",
       "4      0.00  279132   39018          39.29      2.68  23.27   5.01      0.0   \n",
       "...     ...     ...     ...            ...       ...    ...    ...      ...   \n",
       "3224   0.00       0       0           0.00      0.00   0.00   0.00      0.0   \n",
       "3225   0.00       0       0           0.00      0.00   0.00   0.00      0.0   \n",
       "3226  54.58   40606   22333           0.75      0.00   0.00   0.00      0.0   \n",
       "3227   0.00       0       0           0.00      0.00   0.00   0.00      0.0   \n",
       "3228   0.00       0       0           0.00      0.00   0.00   0.00      0.0   \n",
       "\n",
       "      area  target   prediksi     predik  prediksion  prediksionCV  rfrpredict  \n",
       "0        1       0  38.188270  38.359323   39.301224     53.028155   32.386000  \n",
       "1        1       0  30.428175  30.895877   23.813964     28.921887   21.783000  \n",
       "2        1       0  30.697930  31.091101   28.248706     29.536715   24.190000  \n",
       "3        1       0  47.433027  45.259293   35.733011     46.284007   23.985000  \n",
       "4        1       0  35.424570  35.847574   28.207298     29.726674   26.617000  \n",
       "...    ...     ...        ...        ...         ...           ...         ...  \n",
       "3224     3       1   0.306979   0.268126    0.045966      0.253070    0.000000  \n",
       "3225     3       1   0.039582   0.036129    0.043369      0.053370    0.047001  \n",
       "3226     3       1  32.014238  28.142433   19.524711     32.646290   15.855000  \n",
       "3227     3       1   0.039582   0.036129    0.043369      0.053370    0.047001  \n",
       "3228     1       1   0.039582   0.036129    0.043369      0.053370    0.047001  \n",
       "\n",
       "[3228 rows x 24 columns]"
      ]
     },
     "execution_count": 115,
     "metadata": {},
     "output_type": "execute_result"
    }
   ],
   "source": [
    "rfr.fit(x1,y1)\n",
    "predik = rfr.predict(x1)\n",
    "dfoyo['predik'] = predik\n",
    "dfoyo"
   ]
  },
  {
   "cell_type": "markdown",
   "metadata": {},
   "source": [
    "#### Evaluation Model"
   ]
  },
  {
   "cell_type": "code",
   "execution_count": 116,
   "metadata": {},
   "outputs": [
    {
     "name": "stdout",
     "output_type": "stream",
     "text": [
      "MAE: 4.4\n",
      "MSE: 213.36\n",
      "RMSE: 14.606847709208171\n",
      "R2 Score: 0.83\n"
     ]
    }
   ],
   "source": [
    "print(\"MAE:\",round(mean_absolute_error(y1,dfoyo['rfrpredict']),2))\n",
    "print(\"MSE:\",round(mean_squared_error(y1,dfoyo['rfrpredict']),2))\n",
    "print(\"RMSE:\",np.sqrt(round(mean_squared_error(y1,dfoyo['rfrpredict']),2)))\n",
    "print(\"R2 Score:\",round(r2_score(y1,dfoyo['rfrpredict']),2))"
   ]
  },
  {
   "cell_type": "code",
   "execution_count": 117,
   "metadata": {},
   "outputs": [
    {
     "name": "stdout",
     "output_type": "stream",
     "text": [
      "MAE: 9.53\n",
      "MSE: 936.23\n",
      "RMSE: 30.59787574326035\n",
      "R2 Score: 0.27\n"
     ]
    }
   ],
   "source": [
    "print(\"MAE:\",round(mean_absolute_error(y1,dfoyo['prediksi']),2))\n",
    "print(\"MSE:\",round(mean_squared_error(y1,dfoyo['prediksi']),2))\n",
    "print(\"RMSE:\",np.sqrt(round(mean_squared_error(y1,dfoyo['prediksi']),2)))\n",
    "print(\"R2 Score:\",round(r2_score(y1,dfoyo['prediksi']),2))"
   ]
  },
  {
   "cell_type": "code",
   "execution_count": 118,
   "metadata": {},
   "outputs": [
    {
     "name": "stdout",
     "output_type": "stream",
     "text": [
      "MAE: 9.13\n",
      "MSE: 799.76\n",
      "RMSE: 28.280028288528992\n",
      "R2 Score: 0.38\n"
     ]
    }
   ],
   "source": [
    "print(\"MAE:\",round(mean_absolute_error(y1,dfoyo['predik']),2))\n",
    "print(\"MSE:\",round(mean_squared_error(y1,dfoyo['predik']),2))\n",
    "print(\"RMSE:\",np.sqrt(round(mean_squared_error(y1,dfoyo['predik']),2)))\n",
    "print(\"R2 Score:\",round(r2_score(y1,dfoyo['predik']),2))"
   ]
  },
  {
   "cell_type": "code",
   "execution_count": 119,
   "metadata": {},
   "outputs": [
    {
     "name": "stdout",
     "output_type": "stream",
     "text": [
      "MAE: 6.08\n",
      "MSE: 439.69\n",
      "RMSE: 20.96878632634707\n",
      "R2 Score: 0.66\n"
     ]
    }
   ],
   "source": [
    "print(\"MAE:\",round(mean_absolute_error(y1,dfoyo['prediksion']),2))\n",
    "print(\"MSE:\",round(mean_squared_error(y1,dfoyo['prediksion']),2))\n",
    "print(\"RMSE:\",np.sqrt(round(mean_squared_error(y1,dfoyo['prediksion']),2)))\n",
    "print(\"R2 Score:\",round(r2_score(y1,dfoyo['prediksion']),2))"
   ]
  },
  {
   "cell_type": "code",
   "execution_count": 120,
   "metadata": {},
   "outputs": [
    {
     "name": "stdout",
     "output_type": "stream",
     "text": [
      "MAE: 9.8\n",
      "MSE: 963.14\n",
      "RMSE: 31.034496934862663\n",
      "R2 Score: 0.25\n"
     ]
    }
   ],
   "source": [
    "print(\"MAE:\",round(mean_absolute_error(y1,dfoyo['prediksionCV']),2))\n",
    "print(\"MSE:\",round(mean_squared_error(y1,dfoyo['prediksionCV']),2))\n",
    "print(\"RMSE:\",np.sqrt(round(mean_squared_error(y1,dfoyo['prediksionCV']),2)))\n",
    "print(\"R2 Score:\",round(r2_score(y1,dfoyo['prediksionCV']),2))"
   ]
  },
  {
   "cell_type": "code",
   "execution_count": 121,
   "metadata": {},
   "outputs": [
    {
     "data": {
      "text/plain": [
       "['model_linear']"
      ]
     },
     "execution_count": 121,
     "metadata": {},
     "output_type": "execute_result"
    }
   ],
   "source": [
    "joblib.dump(modelreg, 'model_linear')\n"
   ]
  },
  {
   "cell_type": "code",
   "execution_count": null,
   "metadata": {},
   "outputs": [],
   "source": []
  }
 ],
 "metadata": {
  "kernelspec": {
   "display_name": "Python 3",
   "language": "python",
   "name": "python3"
  },
  "language_info": {
   "codemirror_mode": {
    "name": "ipython",
    "version": 3
   },
   "file_extension": ".py",
   "mimetype": "text/x-python",
   "name": "python",
   "nbconvert_exporter": "python",
   "pygments_lexer": "ipython3",
   "version": "3.7.6"
  }
 },
 "nbformat": 4,
 "nbformat_minor": 4
}
